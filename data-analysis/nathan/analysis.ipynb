{
 "cells": [
  {
   "cell_type": "code",
   "execution_count": 27,
   "metadata": {},
   "outputs": [],
   "source": [
    "import numpy as np\n",
    "import pandas as pd"
   ]
  },
  {
   "cell_type": "code",
   "execution_count": 28,
   "metadata": {},
   "outputs": [],
   "source": [
    "match_df = pd.read_csv(\"matchapps.csv\")\n",
    "super_df = pd.read_csv(\"superapps.csv\")"
   ]
  },
  {
   "cell_type": "code",
   "execution_count": 29,
   "metadata": {},
   "outputs": [],
   "source": [
    "DEBUG=False"
   ]
  },
  {
   "cell_type": "markdown",
   "metadata": {},
   "source": [
    "# Data Cleaning"
   ]
  },
  {
   "cell_type": "markdown",
   "metadata": {},
   "source": [
    "Things I've noticed:\n",
    "- Robots scoring on reef while not being marked for leave\n",
    "- Crazy amounts scored in some matches"
   ]
  },
  {
   "cell_type": "code",
   "execution_count": 30,
   "metadata": {},
   "outputs": [],
   "source": [
    "# Robots scoring on reef while not being marked for leave\n",
    "# TODO"
   ]
  },
  {
   "cell_type": "code",
   "execution_count": 31,
   "metadata": {},
   "outputs": [
    {
     "data": {
      "text/html": [
       "<div>\n",
       "<style scoped>\n",
       "    .dataframe tbody tr th:only-of-type {\n",
       "        vertical-align: middle;\n",
       "    }\n",
       "\n",
       "    .dataframe tbody tr th {\n",
       "        vertical-align: top;\n",
       "    }\n",
       "\n",
       "    .dataframe thead th {\n",
       "        text-align: right;\n",
       "    }\n",
       "</style>\n",
       "<table border=\"1\" class=\"dataframe\">\n",
       "  <thead>\n",
       "    <tr style=\"text-align: right;\">\n",
       "      <th></th>\n",
       "      <th>metadata.robotTeam</th>\n",
       "      <th>metadata.matchNumber</th>\n",
       "      <th>autoCoral.L1</th>\n",
       "      <th>autoCoral.L2</th>\n",
       "      <th>autoCoral.L3</th>\n",
       "      <th>autoCoral.L4</th>\n",
       "      <th>teleCoral.L1</th>\n",
       "      <th>teleCoral.L2</th>\n",
       "      <th>teleCoral.L3</th>\n",
       "      <th>teleCoral.L4</th>\n",
       "    </tr>\n",
       "  </thead>\n",
       "  <tbody>\n",
       "    <tr>\n",
       "      <th>335</th>\n",
       "      <td>3863.0</td>\n",
       "      <td>43</td>\n",
       "      <td>0</td>\n",
       "      <td>0</td>\n",
       "      <td>0</td>\n",
       "      <td>0</td>\n",
       "      <td>3</td>\n",
       "      <td>0</td>\n",
       "      <td>22</td>\n",
       "      <td>0</td>\n",
       "    </tr>\n",
       "  </tbody>\n",
       "</table>\n",
       "</div>"
      ],
      "text/plain": [
       "     metadata.robotTeam  metadata.matchNumber  autoCoral.L1  autoCoral.L2  \\\n",
       "335              3863.0                    43             0             0   \n",
       "\n",
       "     autoCoral.L3  autoCoral.L4  teleCoral.L1  teleCoral.L2  teleCoral.L3  \\\n",
       "335             0             0             3             0            22   \n",
       "\n",
       "     teleCoral.L4  \n",
       "335             0  "
      ]
     },
     "execution_count": 31,
     "metadata": {},
     "output_type": "execute_result"
    }
   ],
   "source": [
    "# Robots scoring crazy amounts, imposing reasonable defaults\n",
    "match_df[\n",
    "    (match_df[\"autoCoral.L1\"] > 5) |\n",
    "    (match_df[\"autoCoral.L2\"] > 5) |\n",
    "    (match_df[\"autoCoral.L3\"] > 5) |\n",
    "    (match_df[\"autoCoral.L4\"] > 5) |\n",
    "    (match_df[\"teleCoral.L1\"] > 10) |\n",
    "    (match_df[\"teleCoral.L2\"] > 10) |\n",
    "    (match_df[\"teleCoral.L3\"] > 10) |\n",
    "    (match_df[\"teleCoral.L4\"] > 10)\n",
    "][\n",
    "    [\"metadata.robotTeam\", \"metadata.matchNumber\"] +\n",
    "    [\"autoCoral.L{}\".format(x) for x in range(1, 5)] +\n",
    "    [\"teleCoral.L{}\".format(x) for x in range(1, 5)]\n",
    "]\n"
   ]
  },
  {
   "cell_type": "code",
   "execution_count": 32,
   "metadata": {},
   "outputs": [
    {
     "data": {
      "text/html": [
       "<div>\n",
       "<style scoped>\n",
       "    .dataframe tbody tr th:only-of-type {\n",
       "        vertical-align: middle;\n",
       "    }\n",
       "\n",
       "    .dataframe tbody tr th {\n",
       "        vertical-align: top;\n",
       "    }\n",
       "\n",
       "    .dataframe thead th {\n",
       "        text-align: right;\n",
       "    }\n",
       "</style>\n",
       "<table border=\"1\" class=\"dataframe\">\n",
       "  <thead>\n",
       "    <tr style=\"text-align: right;\">\n",
       "      <th></th>\n",
       "      <th>metadata.robotTeam</th>\n",
       "      <th>metadata.matchNumber</th>\n",
       "      <th>autoCoral.L1</th>\n",
       "      <th>autoCoral.L2</th>\n",
       "      <th>autoCoral.L3</th>\n",
       "      <th>autoCoral.L4</th>\n",
       "      <th>teleCoral.L1</th>\n",
       "      <th>teleCoral.L2</th>\n",
       "      <th>teleCoral.L3</th>\n",
       "      <th>teleCoral.L4</th>\n",
       "    </tr>\n",
       "  </thead>\n",
       "  <tbody>\n",
       "    <tr>\n",
       "      <th>335</th>\n",
       "      <td>3863.0</td>\n",
       "      <td>43</td>\n",
       "      <td>0</td>\n",
       "      <td>0</td>\n",
       "      <td>0</td>\n",
       "      <td>0</td>\n",
       "      <td>4</td>\n",
       "      <td>0</td>\n",
       "      <td>8</td>\n",
       "      <td>0</td>\n",
       "    </tr>\n",
       "  </tbody>\n",
       "</table>\n",
       "</div>"
      ],
      "text/plain": [
       "     metadata.robotTeam  metadata.matchNumber  autoCoral.L1  autoCoral.L2  \\\n",
       "335              3863.0                    43             0             0   \n",
       "\n",
       "     autoCoral.L3  autoCoral.L4  teleCoral.L1  teleCoral.L2  teleCoral.L3  \\\n",
       "335             0             0             4             0             8   \n",
       "\n",
       "     teleCoral.L4  \n",
       "335             0  "
      ]
     },
     "execution_count": 32,
     "metadata": {},
     "output_type": "execute_result"
    }
   ],
   "source": [
    "# Index 335 - update values to:\n",
    "# 4 L1\n",
    "# 8 L3\n",
    "\n",
    "match_df.loc[335, \"teleCoral.L1\"] = 4\n",
    "match_df.loc[335, \"teleCoral.L3\"] = 8\n",
    "\n",
    "match_df[match_df.index == 335][\n",
    "    [\"metadata.robotTeam\", \"metadata.matchNumber\"] +\n",
    "    [\"autoCoral.L{}\".format(x) for x in range(1, 5)] +\n",
    "    [\"teleCoral.L{}\".format(x) for x in range(1, 5)]\n",
    "]"
   ]
  },
  {
   "cell_type": "markdown",
   "metadata": {},
   "source": [
    "# Adding New Fields"
   ]
  },
  {
   "cell_type": "code",
   "execution_count": 33,
   "metadata": {},
   "outputs": [
    {
     "data": {
      "text/plain": [
       "False"
      ]
     },
     "execution_count": 33,
     "metadata": {},
     "output_type": "execute_result"
    }
   ],
   "source": [
    "# Grab a random sample match\n",
    "DEBUG and match_df[(match_df[\"metadata.robotTeam\"] == 4201) & (match_df[\"metadata.matchNumber\"] == 8)]"
   ]
  },
  {
   "cell_type": "code",
   "execution_count": 34,
   "metadata": {},
   "outputs": [],
   "source": [
    "# Add columns for auto, tele, and endgame score\n",
    "match_df[\"autoScore\"] = (\n",
    "    match_df[\"leftStartingZone\"] * 3 +\n",
    "    match_df[\"autoCoral.L1\"] * 3 +\n",
    "    match_df[\"autoCoral.L2\"] * 4 +\n",
    "    match_df[\"autoCoral.L3\"] * 6 +\n",
    "    match_df[\"autoCoral.L4\"] * 7 +\n",
    "    match_df[\"autoAlgae.processor\"] * 6 +\n",
    "    match_df[\"autoAlgae.netRobot\"] * 4\n",
    ")\n",
    "\n",
    "match_df[\"teleScore\"] = (\n",
    "    match_df[\"teleCoral.L1\"] * 2 +\n",
    "    match_df[\"teleCoral.L2\"] * 3 +\n",
    "    match_df[\"teleCoral.L3\"] * 4 +\n",
    "    match_df[\"teleCoral.L4\"] * 5 +\n",
    "    match_df[\"teleAlgae.processor\"] * 6 +\n",
    "    match_df[\"teleAlgae.netRobot\"] * 4\n",
    ")\n",
    "\n",
    "match_df[\"climb.park\"] = match_df[\"climb\"] == \"park\"\n",
    "match_df[\"climb.shallow\"] = match_df[\"climb\"] == \"shallow\"\n",
    "match_df[\"climb.deep\"] = match_df[\"climb\"] == \"deep\"\n",
    "\n",
    "match_df[\"endgameScore\"] = (\n",
    "    match_df[\"climb.park\"] * 2 +\n",
    "    match_df[\"climb.shallow\"] * 6 +\n",
    "    match_df[\"climb.deep\"] * 12\n",
    ")\n",
    "\n",
    "match_df[\"totalScore\"] = (\n",
    "    match_df[\"autoScore\"] +\n",
    "    match_df[\"teleScore\"] +\n",
    "    match_df[\"endgameScore\"]\n",
    ")\n"
   ]
  },
  {
   "cell_type": "code",
   "execution_count": 35,
   "metadata": {},
   "outputs": [
    {
     "data": {
      "text/plain": [
       "False"
      ]
     },
     "execution_count": 35,
     "metadata": {},
     "output_type": "execute_result"
    }
   ],
   "source": [
    "# Grab a random sample match to verify\n",
    "DEBUG and match_df[match_df[\"metadata.robotTeam\"] == 3255][[\"autoCoral.L1\", \"autoCoral.L2\", \"autoCoral.L3\", \"autoCoral.L4\", \"autoAlgae.processor\", \"autoAlgae.netRobot\", \"autoScore\"]]"
   ]
  },
  {
   "cell_type": "code",
   "execution_count": 36,
   "metadata": {},
   "outputs": [
    {
     "data": {
      "text/plain": [
       "False"
      ]
     },
     "execution_count": 36,
     "metadata": {},
     "output_type": "execute_result"
    }
   ],
   "source": [
    "# Grab a random sample match to verify\n",
    "DEBUG and match_df[match_df[\"metadata.robotTeam\"] == 3255][[\"leftStartingZone\", \"teleCoral.L1\", \"teleCoral.L2\", \"teleCoral.L3\", \"teleCoral.L4\", \"teleAlgae.processor\", \"teleAlgae.netRobot\", \"teleScore\"]]"
   ]
  },
  {
   "cell_type": "code",
   "execution_count": 37,
   "metadata": {},
   "outputs": [
    {
     "data": {
      "text/plain": [
       "False"
      ]
     },
     "execution_count": 37,
     "metadata": {},
     "output_type": "execute_result"
    }
   ],
   "source": [
    "# Grab a random sample match to verify\n",
    "DEBUG and match_df[match_df[\"metadata.robotTeam\"] == 3255][[\"climb.park\", \"climb.shallow\", \"climb.deep\", \"endgameScore\"]]"
   ]
  },
  {
   "cell_type": "code",
   "execution_count": 38,
   "metadata": {},
   "outputs": [
    {
     "data": {
      "text/plain": [
       "False"
      ]
     },
     "execution_count": 38,
     "metadata": {},
     "output_type": "execute_result"
    }
   ],
   "source": [
    "# Grab a random sample match to verify\n",
    "DEBUG and match_df[match_df[\"metadata.robotTeam\"] == 3255][[\"autoScore\", \"teleScore\", \"endgameScore\", \"totalScore\"]]"
   ]
  },
  {
   "cell_type": "code",
   "execution_count": 39,
   "metadata": {},
   "outputs": [],
   "source": [
    "# Add columns for whether teams have scored on the side of the reef in auto\n",
    "match_df[\"metadata.robotColorIsBlue\"] = (\n",
    "    (match_df[\"metadata.robotPosition\"] == \"blue_1\") |\n",
    "    (match_df[\"metadata.robotPosition\"] == \"blue_2\") |\n",
    "    (match_df[\"metadata.robotPosition\"] == \"blue_3\")\n",
    ")\n",
    "\n",
    "# Calculate if a team scored on the right side of the reef, from the perspective of the barge\n",
    "match_df[\"autoScoreRightReef\"] = (\n",
    "    match_df[\"metadata.robotColorIsBlue\"] & (match_df[\"placement.deposit1\"] | match_df[\"placement.deposit6\"]) |\n",
    "    ~match_df[\"metadata.robotColorIsBlue\"] & (match_df[\"placement.deposit3\"] | match_df[\"placement.deposit4\"])\n",
    ")\n",
    "\n",
    "# Calculate if a team scored on the left side of the reef, from the perspective of the barge\n",
    "match_df[\"autoScoreLeftReef\"] = (\n",
    "    match_df[\"metadata.robotColorIsBlue\"] & (match_df[\"placement.deposit3\"] | match_df[\"placement.deposit4\"]) |\n",
    "    ~match_df[\"metadata.robotColorIsBlue\"] & (match_df[\"placement.deposit1\"] | match_df[\"placement.deposit6\"])\n",
    ")"
   ]
  },
  {
   "cell_type": "code",
   "execution_count": 40,
   "metadata": {},
   "outputs": [
    {
     "data": {
      "text/plain": [
       "False"
      ]
     },
     "execution_count": 40,
     "metadata": {},
     "output_type": "execute_result"
    }
   ],
   "source": [
    "# Grab a random sample match to verify\n",
    "DEBUG and match_df[match_df[\"autoScoreRightReef\"] | match_df[\"autoScoreLeftReef\"]][[\"metadata.matchNumber\", \"metadata.robotTeam\", \"metadata.robotPosition\", \"placement.deposit1\", \"placement.deposit2\", \"placement.deposit3\", \"placement.deposit4\", \"placement.deposit5\", \"placement.deposit6\", \"autoScoreRightReef\", \"autoScoreLeftReef\"]]"
   ]
  },
  {
   "cell_type": "code",
   "execution_count": 41,
   "metadata": {},
   "outputs": [],
   "source": [
    "team_df = pd.DataFrame()"
   ]
  },
  {
   "cell_type": "code",
   "execution_count": 42,
   "metadata": {},
   "outputs": [],
   "source": [
    "# For each of the columns below, find only the average\n",
    "AVG_COLUMNS = (\n",
    "    [\"startingZone.start{}\".format(x) for x in range(1, 4)] +\n",
    "    [\"pickupLocation.source{}\".format(x) for x in range(1, 3)] +\n",
    "    [\"pickupLocation.ground{}\".format(x) for x in range(1, 4)] +\n",
    "    [\"placement.deposit{}\".format(x) for x in range(1, 7)] +\n",
    "    [\"climb.park\", \"climb.shallow\", \"climb.deep\", \"autoScoreRightReef\", \"autoScoreLeftReef\"]\n",
    ")\n",
    "\n",
    "for c in AVG_COLUMNS:\n",
    "    team_df[f\"{c}.avg\"] = match_df.groupby(\"metadata.robotTeam\")[c].mean()"
   ]
  },
  {
   "cell_type": "code",
   "execution_count": 43,
   "metadata": {},
   "outputs": [
    {
     "name": "stderr",
     "output_type": "stream",
     "text": [
      "/tmp/ipykernel_192619/2394994711.py:20: DeprecationWarning: DataFrameGroupBy.apply operated on the grouping columns. This behavior is deprecated, and in a future version of pandas the grouping columns will be excluded from the operation. Either pass `include_groups=False` to exclude the groupings or explicitly select the grouping columns after groupby to silence this warning.\n",
      "  indexes_to_keep = match_df.groupby(\"metadata.robotTeam\").apply(lambda x: x.sort_values(c).iloc[n:-n]).index.get_level_values(1)\n",
      "/tmp/ipykernel_192619/2394994711.py:20: DeprecationWarning: DataFrameGroupBy.apply operated on the grouping columns. This behavior is deprecated, and in a future version of pandas the grouping columns will be excluded from the operation. Either pass `include_groups=False` to exclude the groupings or explicitly select the grouping columns after groupby to silence this warning.\n",
      "  indexes_to_keep = match_df.groupby(\"metadata.robotTeam\").apply(lambda x: x.sort_values(c).iloc[n:-n]).index.get_level_values(1)\n",
      "/tmp/ipykernel_192619/2394994711.py:20: DeprecationWarning: DataFrameGroupBy.apply operated on the grouping columns. This behavior is deprecated, and in a future version of pandas the grouping columns will be excluded from the operation. Either pass `include_groups=False` to exclude the groupings or explicitly select the grouping columns after groupby to silence this warning.\n",
      "  indexes_to_keep = match_df.groupby(\"metadata.robotTeam\").apply(lambda x: x.sort_values(c).iloc[n:-n]).index.get_level_values(1)\n",
      "/tmp/ipykernel_192619/2394994711.py:20: DeprecationWarning: DataFrameGroupBy.apply operated on the grouping columns. This behavior is deprecated, and in a future version of pandas the grouping columns will be excluded from the operation. Either pass `include_groups=False` to exclude the groupings or explicitly select the grouping columns after groupby to silence this warning.\n",
      "  indexes_to_keep = match_df.groupby(\"metadata.robotTeam\").apply(lambda x: x.sort_values(c).iloc[n:-n]).index.get_level_values(1)\n",
      "/tmp/ipykernel_192619/2394994711.py:20: DeprecationWarning: DataFrameGroupBy.apply operated on the grouping columns. This behavior is deprecated, and in a future version of pandas the grouping columns will be excluded from the operation. Either pass `include_groups=False` to exclude the groupings or explicitly select the grouping columns after groupby to silence this warning.\n",
      "  indexes_to_keep = match_df.groupby(\"metadata.robotTeam\").apply(lambda x: x.sort_values(c).iloc[n:-n]).index.get_level_values(1)\n"
     ]
    },
    {
     "name": "stderr",
     "output_type": "stream",
     "text": [
      "/tmp/ipykernel_192619/2394994711.py:20: DeprecationWarning: DataFrameGroupBy.apply operated on the grouping columns. This behavior is deprecated, and in a future version of pandas the grouping columns will be excluded from the operation. Either pass `include_groups=False` to exclude the groupings or explicitly select the grouping columns after groupby to silence this warning.\n",
      "  indexes_to_keep = match_df.groupby(\"metadata.robotTeam\").apply(lambda x: x.sort_values(c).iloc[n:-n]).index.get_level_values(1)\n",
      "/tmp/ipykernel_192619/2394994711.py:20: DeprecationWarning: DataFrameGroupBy.apply operated on the grouping columns. This behavior is deprecated, and in a future version of pandas the grouping columns will be excluded from the operation. Either pass `include_groups=False` to exclude the groupings or explicitly select the grouping columns after groupby to silence this warning.\n",
      "  indexes_to_keep = match_df.groupby(\"metadata.robotTeam\").apply(lambda x: x.sort_values(c).iloc[n:-n]).index.get_level_values(1)\n",
      "/tmp/ipykernel_192619/2394994711.py:20: DeprecationWarning: DataFrameGroupBy.apply operated on the grouping columns. This behavior is deprecated, and in a future version of pandas the grouping columns will be excluded from the operation. Either pass `include_groups=False` to exclude the groupings or explicitly select the grouping columns after groupby to silence this warning.\n",
      "  indexes_to_keep = match_df.groupby(\"metadata.robotTeam\").apply(lambda x: x.sort_values(c).iloc[n:-n]).index.get_level_values(1)\n",
      "/tmp/ipykernel_192619/2394994711.py:20: DeprecationWarning: DataFrameGroupBy.apply operated on the grouping columns. This behavior is deprecated, and in a future version of pandas the grouping columns will be excluded from the operation. Either pass `include_groups=False` to exclude the groupings or explicitly select the grouping columns after groupby to silence this warning.\n",
      "  indexes_to_keep = match_df.groupby(\"metadata.robotTeam\").apply(lambda x: x.sort_values(c).iloc[n:-n]).index.get_level_values(1)\n",
      "/tmp/ipykernel_192619/2394994711.py:20: DeprecationWarning: DataFrameGroupBy.apply operated on the grouping columns. This behavior is deprecated, and in a future version of pandas the grouping columns will be excluded from the operation. Either pass `include_groups=False` to exclude the groupings or explicitly select the grouping columns after groupby to silence this warning.\n",
      "  indexes_to_keep = match_df.groupby(\"metadata.robotTeam\").apply(lambda x: x.sort_values(c).iloc[n:-n]).index.get_level_values(1)\n",
      "/tmp/ipykernel_192619/2394994711.py:20: DeprecationWarning: DataFrameGroupBy.apply operated on the grouping columns. This behavior is deprecated, and in a future version of pandas the grouping columns will be excluded from the operation. Either pass `include_groups=False` to exclude the groupings or explicitly select the grouping columns after groupby to silence this warning.\n",
      "  indexes_to_keep = match_df.groupby(\"metadata.robotTeam\").apply(lambda x: x.sort_values(c).iloc[n:-n]).index.get_level_values(1)\n",
      "/tmp/ipykernel_192619/2394994711.py:20: DeprecationWarning: DataFrameGroupBy.apply operated on the grouping columns. This behavior is deprecated, and in a future version of pandas the grouping columns will be excluded from the operation. Either pass `include_groups=False` to exclude the groupings or explicitly select the grouping columns after groupby to silence this warning.\n",
      "  indexes_to_keep = match_df.groupby(\"metadata.robotTeam\").apply(lambda x: x.sort_values(c).iloc[n:-n]).index.get_level_values(1)\n",
      "/tmp/ipykernel_192619/2394994711.py:20: DeprecationWarning: DataFrameGroupBy.apply operated on the grouping columns. This behavior is deprecated, and in a future version of pandas the grouping columns will be excluded from the operation. Either pass `include_groups=False` to exclude the groupings or explicitly select the grouping columns after groupby to silence this warning.\n",
      "  indexes_to_keep = match_df.groupby(\"metadata.robotTeam\").apply(lambda x: x.sort_values(c).iloc[n:-n]).index.get_level_values(1)\n",
      "/tmp/ipykernel_192619/2394994711.py:20: DeprecationWarning: DataFrameGroupBy.apply operated on the grouping columns. This behavior is deprecated, and in a future version of pandas the grouping columns will be excluded from the operation. Either pass `include_groups=False` to exclude the groupings or explicitly select the grouping columns after groupby to silence this warning.\n",
      "  indexes_to_keep = match_df.groupby(\"metadata.robotTeam\").apply(lambda x: x.sort_values(c).iloc[n:-n]).index.get_level_values(1)\n",
      "/tmp/ipykernel_192619/2394994711.py:25: PerformanceWarning: DataFrame is highly fragmented.  This is usually the result of calling `frame.insert` many times, which has poor performance.  Consider joining all columns at once using pd.concat(axis=1) instead. To get a de-fragmented frame, use `newframe = frame.copy()`\n",
      "  team_df[f\"{c}.max.drop{n}\"] = filtered_df.groupby(\"metadata.robotTeam\")[c].max()\n",
      "/tmp/ipykernel_192619/2394994711.py:26: PerformanceWarning: DataFrame is highly fragmented.  This is usually the result of calling `frame.insert` many times, which has poor performance.  Consider joining all columns at once using pd.concat(axis=1) instead. To get a de-fragmented frame, use `newframe = frame.copy()`\n",
      "  team_df[f\"{c}.avg.drop{n}\"] = filtered_df.groupby(\"metadata.robotTeam\")[c].mean()\n",
      "/tmp/ipykernel_192619/2394994711.py:27: PerformanceWarning: DataFrame is highly fragmented.  This is usually the result of calling `frame.insert` many times, which has poor performance.  Consider joining all columns at once using pd.concat(axis=1) instead. To get a de-fragmented frame, use `newframe = frame.copy()`\n",
      "  team_df[f\"{c}.std.drop{n}\"] = filtered_df.groupby(\"metadata.robotTeam\")[c].std()\n",
      "/tmp/ipykernel_192619/2394994711.py:11: PerformanceWarning: DataFrame is highly fragmented.  This is usually the result of calling `frame.insert` many times, which has poor performance.  Consider joining all columns at once using pd.concat(axis=1) instead. To get a de-fragmented frame, use `newframe = frame.copy()`\n",
      "  team_df[f\"{c}.min\"] = match_df.groupby(\"metadata.robotTeam\")[c].min()\n",
      "/tmp/ipykernel_192619/2394994711.py:12: PerformanceWarning: DataFrame is highly fragmented.  This is usually the result of calling `frame.insert` many times, which has poor performance.  Consider joining all columns at once using pd.concat(axis=1) instead. To get a de-fragmented frame, use `newframe = frame.copy()`\n",
      "  team_df[f\"{c}.max\"] = match_df.groupby(\"metadata.robotTeam\")[c].max()\n",
      "/tmp/ipykernel_192619/2394994711.py:13: PerformanceWarning: DataFrame is highly fragmented.  This is usually the result of calling `frame.insert` many times, which has poor performance.  Consider joining all columns at once using pd.concat(axis=1) instead. To get a de-fragmented frame, use `newframe = frame.copy()`\n",
      "  team_df[f\"{c}.avg\"] = match_df.groupby(\"metadata.robotTeam\")[c].mean()\n",
      "/tmp/ipykernel_192619/2394994711.py:14: PerformanceWarning: DataFrame is highly fragmented.  This is usually the result of calling `frame.insert` many times, which has poor performance.  Consider joining all columns at once using pd.concat(axis=1) instead. To get a de-fragmented frame, use `newframe = frame.copy()`\n",
      "  team_df[f\"{c}.std\"] = match_df.groupby(\"metadata.robotTeam\")[c].std()\n",
      "/tmp/ipykernel_192619/2394994711.py:20: DeprecationWarning: DataFrameGroupBy.apply operated on the grouping columns. This behavior is deprecated, and in a future version of pandas the grouping columns will be excluded from the operation. Either pass `include_groups=False` to exclude the groupings or explicitly select the grouping columns after groupby to silence this warning.\n",
      "  indexes_to_keep = match_df.groupby(\"metadata.robotTeam\").apply(lambda x: x.sort_values(c).iloc[n:-n]).index.get_level_values(1)\n",
      "/tmp/ipykernel_192619/2394994711.py:24: PerformanceWarning: DataFrame is highly fragmented.  This is usually the result of calling `frame.insert` many times, which has poor performance.  Consider joining all columns at once using pd.concat(axis=1) instead. To get a de-fragmented frame, use `newframe = frame.copy()`\n",
      "  team_df[f\"{c}.min.drop{n}\"] = filtered_df.groupby(\"metadata.robotTeam\")[c].min()\n",
      "/tmp/ipykernel_192619/2394994711.py:25: PerformanceWarning: DataFrame is highly fragmented.  This is usually the result of calling `frame.insert` many times, which has poor performance.  Consider joining all columns at once using pd.concat(axis=1) instead. To get a de-fragmented frame, use `newframe = frame.copy()`\n",
      "  team_df[f\"{c}.max.drop{n}\"] = filtered_df.groupby(\"metadata.robotTeam\")[c].max()\n",
      "/tmp/ipykernel_192619/2394994711.py:26: PerformanceWarning: DataFrame is highly fragmented.  This is usually the result of calling `frame.insert` many times, which has poor performance.  Consider joining all columns at once using pd.concat(axis=1) instead. To get a de-fragmented frame, use `newframe = frame.copy()`\n",
      "  team_df[f\"{c}.avg.drop{n}\"] = filtered_df.groupby(\"metadata.robotTeam\")[c].mean()\n",
      "/tmp/ipykernel_192619/2394994711.py:27: PerformanceWarning: DataFrame is highly fragmented.  This is usually the result of calling `frame.insert` many times, which has poor performance.  Consider joining all columns at once using pd.concat(axis=1) instead. To get a de-fragmented frame, use `newframe = frame.copy()`\n",
      "  team_df[f\"{c}.std.drop{n}\"] = filtered_df.groupby(\"metadata.robotTeam\")[c].std()\n",
      "/tmp/ipykernel_192619/2394994711.py:20: DeprecationWarning: DataFrameGroupBy.apply operated on the grouping columns. This behavior is deprecated, and in a future version of pandas the grouping columns will be excluded from the operation. Either pass `include_groups=False` to exclude the groupings or explicitly select the grouping columns after groupby to silence this warning.\n",
      "  indexes_to_keep = match_df.groupby(\"metadata.robotTeam\").apply(lambda x: x.sort_values(c).iloc[n:-n]).index.get_level_values(1)\n",
      "/tmp/ipykernel_192619/2394994711.py:24: PerformanceWarning: DataFrame is highly fragmented.  This is usually the result of calling `frame.insert` many times, which has poor performance.  Consider joining all columns at once using pd.concat(axis=1) instead. To get a de-fragmented frame, use `newframe = frame.copy()`\n",
      "  team_df[f\"{c}.min.drop{n}\"] = filtered_df.groupby(\"metadata.robotTeam\")[c].min()\n",
      "/tmp/ipykernel_192619/2394994711.py:25: PerformanceWarning: DataFrame is highly fragmented.  This is usually the result of calling `frame.insert` many times, which has poor performance.  Consider joining all columns at once using pd.concat(axis=1) instead. To get a de-fragmented frame, use `newframe = frame.copy()`\n",
      "  team_df[f\"{c}.max.drop{n}\"] = filtered_df.groupby(\"metadata.robotTeam\")[c].max()\n",
      "/tmp/ipykernel_192619/2394994711.py:26: PerformanceWarning: DataFrame is highly fragmented.  This is usually the result of calling `frame.insert` many times, which has poor performance.  Consider joining all columns at once using pd.concat(axis=1) instead. To get a de-fragmented frame, use `newframe = frame.copy()`\n",
      "  team_df[f\"{c}.avg.drop{n}\"] = filtered_df.groupby(\"metadata.robotTeam\")[c].mean()\n",
      "/tmp/ipykernel_192619/2394994711.py:27: PerformanceWarning: DataFrame is highly fragmented.  This is usually the result of calling `frame.insert` many times, which has poor performance.  Consider joining all columns at once using pd.concat(axis=1) instead. To get a de-fragmented frame, use `newframe = frame.copy()`\n",
      "  team_df[f\"{c}.std.drop{n}\"] = filtered_df.groupby(\"metadata.robotTeam\")[c].std()\n",
      "/tmp/ipykernel_192619/2394994711.py:11: PerformanceWarning: DataFrame is highly fragmented.  This is usually the result of calling `frame.insert` many times, which has poor performance.  Consider joining all columns at once using pd.concat(axis=1) instead. To get a de-fragmented frame, use `newframe = frame.copy()`\n",
      "  team_df[f\"{c}.min\"] = match_df.groupby(\"metadata.robotTeam\")[c].min()\n",
      "/tmp/ipykernel_192619/2394994711.py:12: PerformanceWarning: DataFrame is highly fragmented.  This is usually the result of calling `frame.insert` many times, which has poor performance.  Consider joining all columns at once using pd.concat(axis=1) instead. To get a de-fragmented frame, use `newframe = frame.copy()`\n",
      "  team_df[f\"{c}.max\"] = match_df.groupby(\"metadata.robotTeam\")[c].max()\n",
      "/tmp/ipykernel_192619/2394994711.py:13: PerformanceWarning: DataFrame is highly fragmented.  This is usually the result of calling `frame.insert` many times, which has poor performance.  Consider joining all columns at once using pd.concat(axis=1) instead. To get a de-fragmented frame, use `newframe = frame.copy()`\n",
      "  team_df[f\"{c}.avg\"] = match_df.groupby(\"metadata.robotTeam\")[c].mean()\n",
      "/tmp/ipykernel_192619/2394994711.py:14: PerformanceWarning: DataFrame is highly fragmented.  This is usually the result of calling `frame.insert` many times, which has poor performance.  Consider joining all columns at once using pd.concat(axis=1) instead. To get a de-fragmented frame, use `newframe = frame.copy()`\n",
      "  team_df[f\"{c}.std\"] = match_df.groupby(\"metadata.robotTeam\")[c].std()\n",
      "/tmp/ipykernel_192619/2394994711.py:20: DeprecationWarning: DataFrameGroupBy.apply operated on the grouping columns. This behavior is deprecated, and in a future version of pandas the grouping columns will be excluded from the operation. Either pass `include_groups=False` to exclude the groupings or explicitly select the grouping columns after groupby to silence this warning.\n",
      "  indexes_to_keep = match_df.groupby(\"metadata.robotTeam\").apply(lambda x: x.sort_values(c).iloc[n:-n]).index.get_level_values(1)\n",
      "/tmp/ipykernel_192619/2394994711.py:24: PerformanceWarning: DataFrame is highly fragmented.  This is usually the result of calling `frame.insert` many times, which has poor performance.  Consider joining all columns at once using pd.concat(axis=1) instead. To get a de-fragmented frame, use `newframe = frame.copy()`\n",
      "  team_df[f\"{c}.min.drop{n}\"] = filtered_df.groupby(\"metadata.robotTeam\")[c].min()\n",
      "/tmp/ipykernel_192619/2394994711.py:25: PerformanceWarning: DataFrame is highly fragmented.  This is usually the result of calling `frame.insert` many times, which has poor performance.  Consider joining all columns at once using pd.concat(axis=1) instead. To get a de-fragmented frame, use `newframe = frame.copy()`\n",
      "  team_df[f\"{c}.max.drop{n}\"] = filtered_df.groupby(\"metadata.robotTeam\")[c].max()\n",
      "/tmp/ipykernel_192619/2394994711.py:26: PerformanceWarning: DataFrame is highly fragmented.  This is usually the result of calling `frame.insert` many times, which has poor performance.  Consider joining all columns at once using pd.concat(axis=1) instead. To get a de-fragmented frame, use `newframe = frame.copy()`\n",
      "  team_df[f\"{c}.avg.drop{n}\"] = filtered_df.groupby(\"metadata.robotTeam\")[c].mean()\n",
      "/tmp/ipykernel_192619/2394994711.py:27: PerformanceWarning: DataFrame is highly fragmented.  This is usually the result of calling `frame.insert` many times, which has poor performance.  Consider joining all columns at once using pd.concat(axis=1) instead. To get a de-fragmented frame, use `newframe = frame.copy()`\n",
      "  team_df[f\"{c}.std.drop{n}\"] = filtered_df.groupby(\"metadata.robotTeam\")[c].std()\n",
      "/tmp/ipykernel_192619/2394994711.py:20: DeprecationWarning: DataFrameGroupBy.apply operated on the grouping columns. This behavior is deprecated, and in a future version of pandas the grouping columns will be excluded from the operation. Either pass `include_groups=False` to exclude the groupings or explicitly select the grouping columns after groupby to silence this warning.\n",
      "  indexes_to_keep = match_df.groupby(\"metadata.robotTeam\").apply(lambda x: x.sort_values(c).iloc[n:-n]).index.get_level_values(1)\n",
      "/tmp/ipykernel_192619/2394994711.py:24: PerformanceWarning: DataFrame is highly fragmented.  This is usually the result of calling `frame.insert` many times, which has poor performance.  Consider joining all columns at once using pd.concat(axis=1) instead. To get a de-fragmented frame, use `newframe = frame.copy()`\n",
      "  team_df[f\"{c}.min.drop{n}\"] = filtered_df.groupby(\"metadata.robotTeam\")[c].min()\n",
      "/tmp/ipykernel_192619/2394994711.py:25: PerformanceWarning: DataFrame is highly fragmented.  This is usually the result of calling `frame.insert` many times, which has poor performance.  Consider joining all columns at once using pd.concat(axis=1) instead. To get a de-fragmented frame, use `newframe = frame.copy()`\n",
      "  team_df[f\"{c}.max.drop{n}\"] = filtered_df.groupby(\"metadata.robotTeam\")[c].max()\n",
      "/tmp/ipykernel_192619/2394994711.py:26: PerformanceWarning: DataFrame is highly fragmented.  This is usually the result of calling `frame.insert` many times, which has poor performance.  Consider joining all columns at once using pd.concat(axis=1) instead. To get a de-fragmented frame, use `newframe = frame.copy()`\n",
      "  team_df[f\"{c}.avg.drop{n}\"] = filtered_df.groupby(\"metadata.robotTeam\")[c].mean()\n",
      "/tmp/ipykernel_192619/2394994711.py:27: PerformanceWarning: DataFrame is highly fragmented.  This is usually the result of calling `frame.insert` many times, which has poor performance.  Consider joining all columns at once using pd.concat(axis=1) instead. To get a de-fragmented frame, use `newframe = frame.copy()`\n",
      "  team_df[f\"{c}.std.drop{n}\"] = filtered_df.groupby(\"metadata.robotTeam\")[c].std()\n",
      "/tmp/ipykernel_192619/2394994711.py:11: PerformanceWarning: DataFrame is highly fragmented.  This is usually the result of calling `frame.insert` many times, which has poor performance.  Consider joining all columns at once using pd.concat(axis=1) instead. To get a de-fragmented frame, use `newframe = frame.copy()`\n",
      "  team_df[f\"{c}.min\"] = match_df.groupby(\"metadata.robotTeam\")[c].min()\n",
      "/tmp/ipykernel_192619/2394994711.py:12: PerformanceWarning: DataFrame is highly fragmented.  This is usually the result of calling `frame.insert` many times, which has poor performance.  Consider joining all columns at once using pd.concat(axis=1) instead. To get a de-fragmented frame, use `newframe = frame.copy()`\n",
      "  team_df[f\"{c}.max\"] = match_df.groupby(\"metadata.robotTeam\")[c].max()\n",
      "/tmp/ipykernel_192619/2394994711.py:13: PerformanceWarning: DataFrame is highly fragmented.  This is usually the result of calling `frame.insert` many times, which has poor performance.  Consider joining all columns at once using pd.concat(axis=1) instead. To get a de-fragmented frame, use `newframe = frame.copy()`\n",
      "  team_df[f\"{c}.avg\"] = match_df.groupby(\"metadata.robotTeam\")[c].mean()\n",
      "/tmp/ipykernel_192619/2394994711.py:14: PerformanceWarning: DataFrame is highly fragmented.  This is usually the result of calling `frame.insert` many times, which has poor performance.  Consider joining all columns at once using pd.concat(axis=1) instead. To get a de-fragmented frame, use `newframe = frame.copy()`\n",
      "  team_df[f\"{c}.std\"] = match_df.groupby(\"metadata.robotTeam\")[c].std()\n",
      "/tmp/ipykernel_192619/2394994711.py:20: DeprecationWarning: DataFrameGroupBy.apply operated on the grouping columns. This behavior is deprecated, and in a future version of pandas the grouping columns will be excluded from the operation. Either pass `include_groups=False` to exclude the groupings or explicitly select the grouping columns after groupby to silence this warning.\n",
      "  indexes_to_keep = match_df.groupby(\"metadata.robotTeam\").apply(lambda x: x.sort_values(c).iloc[n:-n]).index.get_level_values(1)\n",
      "/tmp/ipykernel_192619/2394994711.py:24: PerformanceWarning: DataFrame is highly fragmented.  This is usually the result of calling `frame.insert` many times, which has poor performance.  Consider joining all columns at once using pd.concat(axis=1) instead. To get a de-fragmented frame, use `newframe = frame.copy()`\n",
      "  team_df[f\"{c}.min.drop{n}\"] = filtered_df.groupby(\"metadata.robotTeam\")[c].min()\n",
      "/tmp/ipykernel_192619/2394994711.py:25: PerformanceWarning: DataFrame is highly fragmented.  This is usually the result of calling `frame.insert` many times, which has poor performance.  Consider joining all columns at once using pd.concat(axis=1) instead. To get a de-fragmented frame, use `newframe = frame.copy()`\n",
      "  team_df[f\"{c}.max.drop{n}\"] = filtered_df.groupby(\"metadata.robotTeam\")[c].max()\n",
      "/tmp/ipykernel_192619/2394994711.py:26: PerformanceWarning: DataFrame is highly fragmented.  This is usually the result of calling `frame.insert` many times, which has poor performance.  Consider joining all columns at once using pd.concat(axis=1) instead. To get a de-fragmented frame, use `newframe = frame.copy()`\n",
      "  team_df[f\"{c}.avg.drop{n}\"] = filtered_df.groupby(\"metadata.robotTeam\")[c].mean()\n",
      "/tmp/ipykernel_192619/2394994711.py:27: PerformanceWarning: DataFrame is highly fragmented.  This is usually the result of calling `frame.insert` many times, which has poor performance.  Consider joining all columns at once using pd.concat(axis=1) instead. To get a de-fragmented frame, use `newframe = frame.copy()`\n",
      "  team_df[f\"{c}.std.drop{n}\"] = filtered_df.groupby(\"metadata.robotTeam\")[c].std()\n",
      "/tmp/ipykernel_192619/2394994711.py:20: DeprecationWarning: DataFrameGroupBy.apply operated on the grouping columns. This behavior is deprecated, and in a future version of pandas the grouping columns will be excluded from the operation. Either pass `include_groups=False` to exclude the groupings or explicitly select the grouping columns after groupby to silence this warning.\n",
      "  indexes_to_keep = match_df.groupby(\"metadata.robotTeam\").apply(lambda x: x.sort_values(c).iloc[n:-n]).index.get_level_values(1)\n",
      "/tmp/ipykernel_192619/2394994711.py:24: PerformanceWarning: DataFrame is highly fragmented.  This is usually the result of calling `frame.insert` many times, which has poor performance.  Consider joining all columns at once using pd.concat(axis=1) instead. To get a de-fragmented frame, use `newframe = frame.copy()`\n",
      "  team_df[f\"{c}.min.drop{n}\"] = filtered_df.groupby(\"metadata.robotTeam\")[c].min()\n",
      "/tmp/ipykernel_192619/2394994711.py:25: PerformanceWarning: DataFrame is highly fragmented.  This is usually the result of calling `frame.insert` many times, which has poor performance.  Consider joining all columns at once using pd.concat(axis=1) instead. To get a de-fragmented frame, use `newframe = frame.copy()`\n",
      "  team_df[f\"{c}.max.drop{n}\"] = filtered_df.groupby(\"metadata.robotTeam\")[c].max()\n",
      "/tmp/ipykernel_192619/2394994711.py:26: PerformanceWarning: DataFrame is highly fragmented.  This is usually the result of calling `frame.insert` many times, which has poor performance.  Consider joining all columns at once using pd.concat(axis=1) instead. To get a de-fragmented frame, use `newframe = frame.copy()`\n",
      "  team_df[f\"{c}.avg.drop{n}\"] = filtered_df.groupby(\"metadata.robotTeam\")[c].mean()\n",
      "/tmp/ipykernel_192619/2394994711.py:27: PerformanceWarning: DataFrame is highly fragmented.  This is usually the result of calling `frame.insert` many times, which has poor performance.  Consider joining all columns at once using pd.concat(axis=1) instead. To get a de-fragmented frame, use `newframe = frame.copy()`\n",
      "  team_df[f\"{c}.std.drop{n}\"] = filtered_df.groupby(\"metadata.robotTeam\")[c].std()\n",
      "/tmp/ipykernel_192619/2394994711.py:11: PerformanceWarning: DataFrame is highly fragmented.  This is usually the result of calling `frame.insert` many times, which has poor performance.  Consider joining all columns at once using pd.concat(axis=1) instead. To get a de-fragmented frame, use `newframe = frame.copy()`\n",
      "  team_df[f\"{c}.min\"] = match_df.groupby(\"metadata.robotTeam\")[c].min()\n",
      "/tmp/ipykernel_192619/2394994711.py:12: PerformanceWarning: DataFrame is highly fragmented.  This is usually the result of calling `frame.insert` many times, which has poor performance.  Consider joining all columns at once using pd.concat(axis=1) instead. To get a de-fragmented frame, use `newframe = frame.copy()`\n",
      "  team_df[f\"{c}.max\"] = match_df.groupby(\"metadata.robotTeam\")[c].max()\n",
      "/tmp/ipykernel_192619/2394994711.py:13: PerformanceWarning: DataFrame is highly fragmented.  This is usually the result of calling `frame.insert` many times, which has poor performance.  Consider joining all columns at once using pd.concat(axis=1) instead. To get a de-fragmented frame, use `newframe = frame.copy()`\n",
      "  team_df[f\"{c}.avg\"] = match_df.groupby(\"metadata.robotTeam\")[c].mean()\n",
      "/tmp/ipykernel_192619/2394994711.py:14: PerformanceWarning: DataFrame is highly fragmented.  This is usually the result of calling `frame.insert` many times, which has poor performance.  Consider joining all columns at once using pd.concat(axis=1) instead. To get a de-fragmented frame, use `newframe = frame.copy()`\n",
      "  team_df[f\"{c}.std\"] = match_df.groupby(\"metadata.robotTeam\")[c].std()\n",
      "/tmp/ipykernel_192619/2394994711.py:20: DeprecationWarning: DataFrameGroupBy.apply operated on the grouping columns. This behavior is deprecated, and in a future version of pandas the grouping columns will be excluded from the operation. Either pass `include_groups=False` to exclude the groupings or explicitly select the grouping columns after groupby to silence this warning.\n",
      "  indexes_to_keep = match_df.groupby(\"metadata.robotTeam\").apply(lambda x: x.sort_values(c).iloc[n:-n]).index.get_level_values(1)\n",
      "/tmp/ipykernel_192619/2394994711.py:24: PerformanceWarning: DataFrame is highly fragmented.  This is usually the result of calling `frame.insert` many times, which has poor performance.  Consider joining all columns at once using pd.concat(axis=1) instead. To get a de-fragmented frame, use `newframe = frame.copy()`\n",
      "  team_df[f\"{c}.min.drop{n}\"] = filtered_df.groupby(\"metadata.robotTeam\")[c].min()\n",
      "/tmp/ipykernel_192619/2394994711.py:25: PerformanceWarning: DataFrame is highly fragmented.  This is usually the result of calling `frame.insert` many times, which has poor performance.  Consider joining all columns at once using pd.concat(axis=1) instead. To get a de-fragmented frame, use `newframe = frame.copy()`\n",
      "  team_df[f\"{c}.max.drop{n}\"] = filtered_df.groupby(\"metadata.robotTeam\")[c].max()\n",
      "/tmp/ipykernel_192619/2394994711.py:26: PerformanceWarning: DataFrame is highly fragmented.  This is usually the result of calling `frame.insert` many times, which has poor performance.  Consider joining all columns at once using pd.concat(axis=1) instead. To get a de-fragmented frame, use `newframe = frame.copy()`\n",
      "  team_df[f\"{c}.avg.drop{n}\"] = filtered_df.groupby(\"metadata.robotTeam\")[c].mean()\n",
      "/tmp/ipykernel_192619/2394994711.py:27: PerformanceWarning: DataFrame is highly fragmented.  This is usually the result of calling `frame.insert` many times, which has poor performance.  Consider joining all columns at once using pd.concat(axis=1) instead. To get a de-fragmented frame, use `newframe = frame.copy()`\n",
      "  team_df[f\"{c}.std.drop{n}\"] = filtered_df.groupby(\"metadata.robotTeam\")[c].std()\n",
      "/tmp/ipykernel_192619/2394994711.py:20: DeprecationWarning: DataFrameGroupBy.apply operated on the grouping columns. This behavior is deprecated, and in a future version of pandas the grouping columns will be excluded from the operation. Either pass `include_groups=False` to exclude the groupings or explicitly select the grouping columns after groupby to silence this warning.\n",
      "  indexes_to_keep = match_df.groupby(\"metadata.robotTeam\").apply(lambda x: x.sort_values(c).iloc[n:-n]).index.get_level_values(1)\n",
      "/tmp/ipykernel_192619/2394994711.py:24: PerformanceWarning: DataFrame is highly fragmented.  This is usually the result of calling `frame.insert` many times, which has poor performance.  Consider joining all columns at once using pd.concat(axis=1) instead. To get a de-fragmented frame, use `newframe = frame.copy()`\n",
      "  team_df[f\"{c}.min.drop{n}\"] = filtered_df.groupby(\"metadata.robotTeam\")[c].min()\n",
      "/tmp/ipykernel_192619/2394994711.py:25: PerformanceWarning: DataFrame is highly fragmented.  This is usually the result of calling `frame.insert` many times, which has poor performance.  Consider joining all columns at once using pd.concat(axis=1) instead. To get a de-fragmented frame, use `newframe = frame.copy()`\n",
      "  team_df[f\"{c}.max.drop{n}\"] = filtered_df.groupby(\"metadata.robotTeam\")[c].max()\n",
      "/tmp/ipykernel_192619/2394994711.py:26: PerformanceWarning: DataFrame is highly fragmented.  This is usually the result of calling `frame.insert` many times, which has poor performance.  Consider joining all columns at once using pd.concat(axis=1) instead. To get a de-fragmented frame, use `newframe = frame.copy()`\n",
      "  team_df[f\"{c}.avg.drop{n}\"] = filtered_df.groupby(\"metadata.robotTeam\")[c].mean()\n",
      "/tmp/ipykernel_192619/2394994711.py:27: PerformanceWarning: DataFrame is highly fragmented.  This is usually the result of calling `frame.insert` many times, which has poor performance.  Consider joining all columns at once using pd.concat(axis=1) instead. To get a de-fragmented frame, use `newframe = frame.copy()`\n",
      "  team_df[f\"{c}.std.drop{n}\"] = filtered_df.groupby(\"metadata.robotTeam\")[c].std()\n",
      "/tmp/ipykernel_192619/2394994711.py:11: PerformanceWarning: DataFrame is highly fragmented.  This is usually the result of calling `frame.insert` many times, which has poor performance.  Consider joining all columns at once using pd.concat(axis=1) instead. To get a de-fragmented frame, use `newframe = frame.copy()`\n",
      "  team_df[f\"{c}.min\"] = match_df.groupby(\"metadata.robotTeam\")[c].min()\n",
      "/tmp/ipykernel_192619/2394994711.py:12: PerformanceWarning: DataFrame is highly fragmented.  This is usually the result of calling `frame.insert` many times, which has poor performance.  Consider joining all columns at once using pd.concat(axis=1) instead. To get a de-fragmented frame, use `newframe = frame.copy()`\n",
      "  team_df[f\"{c}.max\"] = match_df.groupby(\"metadata.robotTeam\")[c].max()\n",
      "/tmp/ipykernel_192619/2394994711.py:13: PerformanceWarning: DataFrame is highly fragmented.  This is usually the result of calling `frame.insert` many times, which has poor performance.  Consider joining all columns at once using pd.concat(axis=1) instead. To get a de-fragmented frame, use `newframe = frame.copy()`\n",
      "  team_df[f\"{c}.avg\"] = match_df.groupby(\"metadata.robotTeam\")[c].mean()\n",
      "/tmp/ipykernel_192619/2394994711.py:14: PerformanceWarning: DataFrame is highly fragmented.  This is usually the result of calling `frame.insert` many times, which has poor performance.  Consider joining all columns at once using pd.concat(axis=1) instead. To get a de-fragmented frame, use `newframe = frame.copy()`\n",
      "  team_df[f\"{c}.std\"] = match_df.groupby(\"metadata.robotTeam\")[c].std()\n",
      "/tmp/ipykernel_192619/2394994711.py:20: DeprecationWarning: DataFrameGroupBy.apply operated on the grouping columns. This behavior is deprecated, and in a future version of pandas the grouping columns will be excluded from the operation. Either pass `include_groups=False` to exclude the groupings or explicitly select the grouping columns after groupby to silence this warning.\n",
      "  indexes_to_keep = match_df.groupby(\"metadata.robotTeam\").apply(lambda x: x.sort_values(c).iloc[n:-n]).index.get_level_values(1)\n",
      "/tmp/ipykernel_192619/2394994711.py:24: PerformanceWarning: DataFrame is highly fragmented.  This is usually the result of calling `frame.insert` many times, which has poor performance.  Consider joining all columns at once using pd.concat(axis=1) instead. To get a de-fragmented frame, use `newframe = frame.copy()`\n",
      "  team_df[f\"{c}.min.drop{n}\"] = filtered_df.groupby(\"metadata.robotTeam\")[c].min()\n",
      "/tmp/ipykernel_192619/2394994711.py:25: PerformanceWarning: DataFrame is highly fragmented.  This is usually the result of calling `frame.insert` many times, which has poor performance.  Consider joining all columns at once using pd.concat(axis=1) instead. To get a de-fragmented frame, use `newframe = frame.copy()`\n",
      "  team_df[f\"{c}.max.drop{n}\"] = filtered_df.groupby(\"metadata.robotTeam\")[c].max()\n",
      "/tmp/ipykernel_192619/2394994711.py:26: PerformanceWarning: DataFrame is highly fragmented.  This is usually the result of calling `frame.insert` many times, which has poor performance.  Consider joining all columns at once using pd.concat(axis=1) instead. To get a de-fragmented frame, use `newframe = frame.copy()`\n",
      "  team_df[f\"{c}.avg.drop{n}\"] = filtered_df.groupby(\"metadata.robotTeam\")[c].mean()\n",
      "/tmp/ipykernel_192619/2394994711.py:27: PerformanceWarning: DataFrame is highly fragmented.  This is usually the result of calling `frame.insert` many times, which has poor performance.  Consider joining all columns at once using pd.concat(axis=1) instead. To get a de-fragmented frame, use `newframe = frame.copy()`\n",
      "  team_df[f\"{c}.std.drop{n}\"] = filtered_df.groupby(\"metadata.robotTeam\")[c].std()\n",
      "/tmp/ipykernel_192619/2394994711.py:20: DeprecationWarning: DataFrameGroupBy.apply operated on the grouping columns. This behavior is deprecated, and in a future version of pandas the grouping columns will be excluded from the operation. Either pass `include_groups=False` to exclude the groupings or explicitly select the grouping columns after groupby to silence this warning.\n",
      "  indexes_to_keep = match_df.groupby(\"metadata.robotTeam\").apply(lambda x: x.sort_values(c).iloc[n:-n]).index.get_level_values(1)\n",
      "/tmp/ipykernel_192619/2394994711.py:24: PerformanceWarning: DataFrame is highly fragmented.  This is usually the result of calling `frame.insert` many times, which has poor performance.  Consider joining all columns at once using pd.concat(axis=1) instead. To get a de-fragmented frame, use `newframe = frame.copy()`\n",
      "  team_df[f\"{c}.min.drop{n}\"] = filtered_df.groupby(\"metadata.robotTeam\")[c].min()\n",
      "/tmp/ipykernel_192619/2394994711.py:25: PerformanceWarning: DataFrame is highly fragmented.  This is usually the result of calling `frame.insert` many times, which has poor performance.  Consider joining all columns at once using pd.concat(axis=1) instead. To get a de-fragmented frame, use `newframe = frame.copy()`\n",
      "  team_df[f\"{c}.max.drop{n}\"] = filtered_df.groupby(\"metadata.robotTeam\")[c].max()\n",
      "/tmp/ipykernel_192619/2394994711.py:26: PerformanceWarning: DataFrame is highly fragmented.  This is usually the result of calling `frame.insert` many times, which has poor performance.  Consider joining all columns at once using pd.concat(axis=1) instead. To get a de-fragmented frame, use `newframe = frame.copy()`\n",
      "  team_df[f\"{c}.avg.drop{n}\"] = filtered_df.groupby(\"metadata.robotTeam\")[c].mean()\n",
      "/tmp/ipykernel_192619/2394994711.py:27: PerformanceWarning: DataFrame is highly fragmented.  This is usually the result of calling `frame.insert` many times, which has poor performance.  Consider joining all columns at once using pd.concat(axis=1) instead. To get a de-fragmented frame, use `newframe = frame.copy()`\n",
      "  team_df[f\"{c}.std.drop{n}\"] = filtered_df.groupby(\"metadata.robotTeam\")[c].std()\n",
      "/tmp/ipykernel_192619/2394994711.py:11: PerformanceWarning: DataFrame is highly fragmented.  This is usually the result of calling `frame.insert` many times, which has poor performance.  Consider joining all columns at once using pd.concat(axis=1) instead. To get a de-fragmented frame, use `newframe = frame.copy()`\n",
      "  team_df[f\"{c}.min\"] = match_df.groupby(\"metadata.robotTeam\")[c].min()\n",
      "/tmp/ipykernel_192619/2394994711.py:12: PerformanceWarning: DataFrame is highly fragmented.  This is usually the result of calling `frame.insert` many times, which has poor performance.  Consider joining all columns at once using pd.concat(axis=1) instead. To get a de-fragmented frame, use `newframe = frame.copy()`\n",
      "  team_df[f\"{c}.max\"] = match_df.groupby(\"metadata.robotTeam\")[c].max()\n",
      "/tmp/ipykernel_192619/2394994711.py:13: PerformanceWarning: DataFrame is highly fragmented.  This is usually the result of calling `frame.insert` many times, which has poor performance.  Consider joining all columns at once using pd.concat(axis=1) instead. To get a de-fragmented frame, use `newframe = frame.copy()`\n",
      "  team_df[f\"{c}.avg\"] = match_df.groupby(\"metadata.robotTeam\")[c].mean()\n",
      "/tmp/ipykernel_192619/2394994711.py:14: PerformanceWarning: DataFrame is highly fragmented.  This is usually the result of calling `frame.insert` many times, which has poor performance.  Consider joining all columns at once using pd.concat(axis=1) instead. To get a de-fragmented frame, use `newframe = frame.copy()`\n",
      "  team_df[f\"{c}.std\"] = match_df.groupby(\"metadata.robotTeam\")[c].std()\n",
      "/tmp/ipykernel_192619/2394994711.py:20: DeprecationWarning: DataFrameGroupBy.apply operated on the grouping columns. This behavior is deprecated, and in a future version of pandas the grouping columns will be excluded from the operation. Either pass `include_groups=False` to exclude the groupings or explicitly select the grouping columns after groupby to silence this warning.\n",
      "  indexes_to_keep = match_df.groupby(\"metadata.robotTeam\").apply(lambda x: x.sort_values(c).iloc[n:-n]).index.get_level_values(1)\n",
      "/tmp/ipykernel_192619/2394994711.py:24: PerformanceWarning: DataFrame is highly fragmented.  This is usually the result of calling `frame.insert` many times, which has poor performance.  Consider joining all columns at once using pd.concat(axis=1) instead. To get a de-fragmented frame, use `newframe = frame.copy()`\n",
      "  team_df[f\"{c}.min.drop{n}\"] = filtered_df.groupby(\"metadata.robotTeam\")[c].min()\n",
      "/tmp/ipykernel_192619/2394994711.py:25: PerformanceWarning: DataFrame is highly fragmented.  This is usually the result of calling `frame.insert` many times, which has poor performance.  Consider joining all columns at once using pd.concat(axis=1) instead. To get a de-fragmented frame, use `newframe = frame.copy()`\n",
      "  team_df[f\"{c}.max.drop{n}\"] = filtered_df.groupby(\"metadata.robotTeam\")[c].max()\n",
      "/tmp/ipykernel_192619/2394994711.py:26: PerformanceWarning: DataFrame is highly fragmented.  This is usually the result of calling `frame.insert` many times, which has poor performance.  Consider joining all columns at once using pd.concat(axis=1) instead. To get a de-fragmented frame, use `newframe = frame.copy()`\n",
      "  team_df[f\"{c}.avg.drop{n}\"] = filtered_df.groupby(\"metadata.robotTeam\")[c].mean()\n",
      "/tmp/ipykernel_192619/2394994711.py:27: PerformanceWarning: DataFrame is highly fragmented.  This is usually the result of calling `frame.insert` many times, which has poor performance.  Consider joining all columns at once using pd.concat(axis=1) instead. To get a de-fragmented frame, use `newframe = frame.copy()`\n",
      "  team_df[f\"{c}.std.drop{n}\"] = filtered_df.groupby(\"metadata.robotTeam\")[c].std()\n",
      "/tmp/ipykernel_192619/2394994711.py:20: DeprecationWarning: DataFrameGroupBy.apply operated on the grouping columns. This behavior is deprecated, and in a future version of pandas the grouping columns will be excluded from the operation. Either pass `include_groups=False` to exclude the groupings or explicitly select the grouping columns after groupby to silence this warning.\n",
      "  indexes_to_keep = match_df.groupby(\"metadata.robotTeam\").apply(lambda x: x.sort_values(c).iloc[n:-n]).index.get_level_values(1)\n",
      "/tmp/ipykernel_192619/2394994711.py:24: PerformanceWarning: DataFrame is highly fragmented.  This is usually the result of calling `frame.insert` many times, which has poor performance.  Consider joining all columns at once using pd.concat(axis=1) instead. To get a de-fragmented frame, use `newframe = frame.copy()`\n",
      "  team_df[f\"{c}.min.drop{n}\"] = filtered_df.groupby(\"metadata.robotTeam\")[c].min()\n",
      "/tmp/ipykernel_192619/2394994711.py:25: PerformanceWarning: DataFrame is highly fragmented.  This is usually the result of calling `frame.insert` many times, which has poor performance.  Consider joining all columns at once using pd.concat(axis=1) instead. To get a de-fragmented frame, use `newframe = frame.copy()`\n",
      "  team_df[f\"{c}.max.drop{n}\"] = filtered_df.groupby(\"metadata.robotTeam\")[c].max()\n",
      "/tmp/ipykernel_192619/2394994711.py:26: PerformanceWarning: DataFrame is highly fragmented.  This is usually the result of calling `frame.insert` many times, which has poor performance.  Consider joining all columns at once using pd.concat(axis=1) instead. To get a de-fragmented frame, use `newframe = frame.copy()`\n",
      "  team_df[f\"{c}.avg.drop{n}\"] = filtered_df.groupby(\"metadata.robotTeam\")[c].mean()\n",
      "/tmp/ipykernel_192619/2394994711.py:27: PerformanceWarning: DataFrame is highly fragmented.  This is usually the result of calling `frame.insert` many times, which has poor performance.  Consider joining all columns at once using pd.concat(axis=1) instead. To get a de-fragmented frame, use `newframe = frame.copy()`\n",
      "  team_df[f\"{c}.std.drop{n}\"] = filtered_df.groupby(\"metadata.robotTeam\")[c].std()\n",
      "/tmp/ipykernel_192619/2394994711.py:11: PerformanceWarning: DataFrame is highly fragmented.  This is usually the result of calling `frame.insert` many times, which has poor performance.  Consider joining all columns at once using pd.concat(axis=1) instead. To get a de-fragmented frame, use `newframe = frame.copy()`\n",
      "  team_df[f\"{c}.min\"] = match_df.groupby(\"metadata.robotTeam\")[c].min()\n",
      "/tmp/ipykernel_192619/2394994711.py:12: PerformanceWarning: DataFrame is highly fragmented.  This is usually the result of calling `frame.insert` many times, which has poor performance.  Consider joining all columns at once using pd.concat(axis=1) instead. To get a de-fragmented frame, use `newframe = frame.copy()`\n",
      "  team_df[f\"{c}.max\"] = match_df.groupby(\"metadata.robotTeam\")[c].max()\n",
      "/tmp/ipykernel_192619/2394994711.py:13: PerformanceWarning: DataFrame is highly fragmented.  This is usually the result of calling `frame.insert` many times, which has poor performance.  Consider joining all columns at once using pd.concat(axis=1) instead. To get a de-fragmented frame, use `newframe = frame.copy()`\n",
      "  team_df[f\"{c}.avg\"] = match_df.groupby(\"metadata.robotTeam\")[c].mean()\n",
      "/tmp/ipykernel_192619/2394994711.py:14: PerformanceWarning: DataFrame is highly fragmented.  This is usually the result of calling `frame.insert` many times, which has poor performance.  Consider joining all columns at once using pd.concat(axis=1) instead. To get a de-fragmented frame, use `newframe = frame.copy()`\n",
      "  team_df[f\"{c}.std\"] = match_df.groupby(\"metadata.robotTeam\")[c].std()\n",
      "/tmp/ipykernel_192619/2394994711.py:20: DeprecationWarning: DataFrameGroupBy.apply operated on the grouping columns. This behavior is deprecated, and in a future version of pandas the grouping columns will be excluded from the operation. Either pass `include_groups=False` to exclude the groupings or explicitly select the grouping columns after groupby to silence this warning.\n",
      "  indexes_to_keep = match_df.groupby(\"metadata.robotTeam\").apply(lambda x: x.sort_values(c).iloc[n:-n]).index.get_level_values(1)\n",
      "/tmp/ipykernel_192619/2394994711.py:24: PerformanceWarning: DataFrame is highly fragmented.  This is usually the result of calling `frame.insert` many times, which has poor performance.  Consider joining all columns at once using pd.concat(axis=1) instead. To get a de-fragmented frame, use `newframe = frame.copy()`\n",
      "  team_df[f\"{c}.min.drop{n}\"] = filtered_df.groupby(\"metadata.robotTeam\")[c].min()\n",
      "/tmp/ipykernel_192619/2394994711.py:25: PerformanceWarning: DataFrame is highly fragmented.  This is usually the result of calling `frame.insert` many times, which has poor performance.  Consider joining all columns at once using pd.concat(axis=1) instead. To get a de-fragmented frame, use `newframe = frame.copy()`\n",
      "  team_df[f\"{c}.max.drop{n}\"] = filtered_df.groupby(\"metadata.robotTeam\")[c].max()\n",
      "/tmp/ipykernel_192619/2394994711.py:26: PerformanceWarning: DataFrame is highly fragmented.  This is usually the result of calling `frame.insert` many times, which has poor performance.  Consider joining all columns at once using pd.concat(axis=1) instead. To get a de-fragmented frame, use `newframe = frame.copy()`\n",
      "  team_df[f\"{c}.avg.drop{n}\"] = filtered_df.groupby(\"metadata.robotTeam\")[c].mean()\n",
      "/tmp/ipykernel_192619/2394994711.py:27: PerformanceWarning: DataFrame is highly fragmented.  This is usually the result of calling `frame.insert` many times, which has poor performance.  Consider joining all columns at once using pd.concat(axis=1) instead. To get a de-fragmented frame, use `newframe = frame.copy()`\n",
      "  team_df[f\"{c}.std.drop{n}\"] = filtered_df.groupby(\"metadata.robotTeam\")[c].std()\n",
      "/tmp/ipykernel_192619/2394994711.py:20: DeprecationWarning: DataFrameGroupBy.apply operated on the grouping columns. This behavior is deprecated, and in a future version of pandas the grouping columns will be excluded from the operation. Either pass `include_groups=False` to exclude the groupings or explicitly select the grouping columns after groupby to silence this warning.\n",
      "  indexes_to_keep = match_df.groupby(\"metadata.robotTeam\").apply(lambda x: x.sort_values(c).iloc[n:-n]).index.get_level_values(1)\n",
      "/tmp/ipykernel_192619/2394994711.py:24: PerformanceWarning: DataFrame is highly fragmented.  This is usually the result of calling `frame.insert` many times, which has poor performance.  Consider joining all columns at once using pd.concat(axis=1) instead. To get a de-fragmented frame, use `newframe = frame.copy()`\n",
      "  team_df[f\"{c}.min.drop{n}\"] = filtered_df.groupby(\"metadata.robotTeam\")[c].min()\n",
      "/tmp/ipykernel_192619/2394994711.py:25: PerformanceWarning: DataFrame is highly fragmented.  This is usually the result of calling `frame.insert` many times, which has poor performance.  Consider joining all columns at once using pd.concat(axis=1) instead. To get a de-fragmented frame, use `newframe = frame.copy()`\n",
      "  team_df[f\"{c}.max.drop{n}\"] = filtered_df.groupby(\"metadata.robotTeam\")[c].max()\n",
      "/tmp/ipykernel_192619/2394994711.py:26: PerformanceWarning: DataFrame is highly fragmented.  This is usually the result of calling `frame.insert` many times, which has poor performance.  Consider joining all columns at once using pd.concat(axis=1) instead. To get a de-fragmented frame, use `newframe = frame.copy()`\n",
      "  team_df[f\"{c}.avg.drop{n}\"] = filtered_df.groupby(\"metadata.robotTeam\")[c].mean()\n",
      "/tmp/ipykernel_192619/2394994711.py:27: PerformanceWarning: DataFrame is highly fragmented.  This is usually the result of calling `frame.insert` many times, which has poor performance.  Consider joining all columns at once using pd.concat(axis=1) instead. To get a de-fragmented frame, use `newframe = frame.copy()`\n",
      "  team_df[f\"{c}.std.drop{n}\"] = filtered_df.groupby(\"metadata.robotTeam\")[c].std()\n",
      "/tmp/ipykernel_192619/2394994711.py:11: PerformanceWarning: DataFrame is highly fragmented.  This is usually the result of calling `frame.insert` many times, which has poor performance.  Consider joining all columns at once using pd.concat(axis=1) instead. To get a de-fragmented frame, use `newframe = frame.copy()`\n",
      "  team_df[f\"{c}.min\"] = match_df.groupby(\"metadata.robotTeam\")[c].min()\n",
      "/tmp/ipykernel_192619/2394994711.py:12: PerformanceWarning: DataFrame is highly fragmented.  This is usually the result of calling `frame.insert` many times, which has poor performance.  Consider joining all columns at once using pd.concat(axis=1) instead. To get a de-fragmented frame, use `newframe = frame.copy()`\n",
      "  team_df[f\"{c}.max\"] = match_df.groupby(\"metadata.robotTeam\")[c].max()\n",
      "/tmp/ipykernel_192619/2394994711.py:13: PerformanceWarning: DataFrame is highly fragmented.  This is usually the result of calling `frame.insert` many times, which has poor performance.  Consider joining all columns at once using pd.concat(axis=1) instead. To get a de-fragmented frame, use `newframe = frame.copy()`\n",
      "  team_df[f\"{c}.avg\"] = match_df.groupby(\"metadata.robotTeam\")[c].mean()\n",
      "/tmp/ipykernel_192619/2394994711.py:14: PerformanceWarning: DataFrame is highly fragmented.  This is usually the result of calling `frame.insert` many times, which has poor performance.  Consider joining all columns at once using pd.concat(axis=1) instead. To get a de-fragmented frame, use `newframe = frame.copy()`\n",
      "  team_df[f\"{c}.std\"] = match_df.groupby(\"metadata.robotTeam\")[c].std()\n",
      "/tmp/ipykernel_192619/2394994711.py:20: DeprecationWarning: DataFrameGroupBy.apply operated on the grouping columns. This behavior is deprecated, and in a future version of pandas the grouping columns will be excluded from the operation. Either pass `include_groups=False` to exclude the groupings or explicitly select the grouping columns after groupby to silence this warning.\n",
      "  indexes_to_keep = match_df.groupby(\"metadata.robotTeam\").apply(lambda x: x.sort_values(c).iloc[n:-n]).index.get_level_values(1)\n",
      "/tmp/ipykernel_192619/2394994711.py:24: PerformanceWarning: DataFrame is highly fragmented.  This is usually the result of calling `frame.insert` many times, which has poor performance.  Consider joining all columns at once using pd.concat(axis=1) instead. To get a de-fragmented frame, use `newframe = frame.copy()`\n",
      "  team_df[f\"{c}.min.drop{n}\"] = filtered_df.groupby(\"metadata.robotTeam\")[c].min()\n",
      "/tmp/ipykernel_192619/2394994711.py:25: PerformanceWarning: DataFrame is highly fragmented.  This is usually the result of calling `frame.insert` many times, which has poor performance.  Consider joining all columns at once using pd.concat(axis=1) instead. To get a de-fragmented frame, use `newframe = frame.copy()`\n",
      "  team_df[f\"{c}.max.drop{n}\"] = filtered_df.groupby(\"metadata.robotTeam\")[c].max()\n",
      "/tmp/ipykernel_192619/2394994711.py:26: PerformanceWarning: DataFrame is highly fragmented.  This is usually the result of calling `frame.insert` many times, which has poor performance.  Consider joining all columns at once using pd.concat(axis=1) instead. To get a de-fragmented frame, use `newframe = frame.copy()`\n",
      "  team_df[f\"{c}.avg.drop{n}\"] = filtered_df.groupby(\"metadata.robotTeam\")[c].mean()\n",
      "/tmp/ipykernel_192619/2394994711.py:27: PerformanceWarning: DataFrame is highly fragmented.  This is usually the result of calling `frame.insert` many times, which has poor performance.  Consider joining all columns at once using pd.concat(axis=1) instead. To get a de-fragmented frame, use `newframe = frame.copy()`\n",
      "  team_df[f\"{c}.std.drop{n}\"] = filtered_df.groupby(\"metadata.robotTeam\")[c].std()\n",
      "/tmp/ipykernel_192619/2394994711.py:20: DeprecationWarning: DataFrameGroupBy.apply operated on the grouping columns. This behavior is deprecated, and in a future version of pandas the grouping columns will be excluded from the operation. Either pass `include_groups=False` to exclude the groupings or explicitly select the grouping columns after groupby to silence this warning.\n",
      "  indexes_to_keep = match_df.groupby(\"metadata.robotTeam\").apply(lambda x: x.sort_values(c).iloc[n:-n]).index.get_level_values(1)\n",
      "/tmp/ipykernel_192619/2394994711.py:24: PerformanceWarning: DataFrame is highly fragmented.  This is usually the result of calling `frame.insert` many times, which has poor performance.  Consider joining all columns at once using pd.concat(axis=1) instead. To get a de-fragmented frame, use `newframe = frame.copy()`\n",
      "  team_df[f\"{c}.min.drop{n}\"] = filtered_df.groupby(\"metadata.robotTeam\")[c].min()\n",
      "/tmp/ipykernel_192619/2394994711.py:25: PerformanceWarning: DataFrame is highly fragmented.  This is usually the result of calling `frame.insert` many times, which has poor performance.  Consider joining all columns at once using pd.concat(axis=1) instead. To get a de-fragmented frame, use `newframe = frame.copy()`\n",
      "  team_df[f\"{c}.max.drop{n}\"] = filtered_df.groupby(\"metadata.robotTeam\")[c].max()\n",
      "/tmp/ipykernel_192619/2394994711.py:26: PerformanceWarning: DataFrame is highly fragmented.  This is usually the result of calling `frame.insert` many times, which has poor performance.  Consider joining all columns at once using pd.concat(axis=1) instead. To get a de-fragmented frame, use `newframe = frame.copy()`\n",
      "  team_df[f\"{c}.avg.drop{n}\"] = filtered_df.groupby(\"metadata.robotTeam\")[c].mean()\n",
      "/tmp/ipykernel_192619/2394994711.py:27: PerformanceWarning: DataFrame is highly fragmented.  This is usually the result of calling `frame.insert` many times, which has poor performance.  Consider joining all columns at once using pd.concat(axis=1) instead. To get a de-fragmented frame, use `newframe = frame.copy()`\n",
      "  team_df[f\"{c}.std.drop{n}\"] = filtered_df.groupby(\"metadata.robotTeam\")[c].std()\n",
      "/tmp/ipykernel_192619/2394994711.py:11: PerformanceWarning: DataFrame is highly fragmented.  This is usually the result of calling `frame.insert` many times, which has poor performance.  Consider joining all columns at once using pd.concat(axis=1) instead. To get a de-fragmented frame, use `newframe = frame.copy()`\n",
      "  team_df[f\"{c}.min\"] = match_df.groupby(\"metadata.robotTeam\")[c].min()\n",
      "/tmp/ipykernel_192619/2394994711.py:12: PerformanceWarning: DataFrame is highly fragmented.  This is usually the result of calling `frame.insert` many times, which has poor performance.  Consider joining all columns at once using pd.concat(axis=1) instead. To get a de-fragmented frame, use `newframe = frame.copy()`\n",
      "  team_df[f\"{c}.max\"] = match_df.groupby(\"metadata.robotTeam\")[c].max()\n",
      "/tmp/ipykernel_192619/2394994711.py:13: PerformanceWarning: DataFrame is highly fragmented.  This is usually the result of calling `frame.insert` many times, which has poor performance.  Consider joining all columns at once using pd.concat(axis=1) instead. To get a de-fragmented frame, use `newframe = frame.copy()`\n",
      "  team_df[f\"{c}.avg\"] = match_df.groupby(\"metadata.robotTeam\")[c].mean()\n",
      "/tmp/ipykernel_192619/2394994711.py:14: PerformanceWarning: DataFrame is highly fragmented.  This is usually the result of calling `frame.insert` many times, which has poor performance.  Consider joining all columns at once using pd.concat(axis=1) instead. To get a de-fragmented frame, use `newframe = frame.copy()`\n",
      "  team_df[f\"{c}.std\"] = match_df.groupby(\"metadata.robotTeam\")[c].std()\n",
      "/tmp/ipykernel_192619/2394994711.py:20: DeprecationWarning: DataFrameGroupBy.apply operated on the grouping columns. This behavior is deprecated, and in a future version of pandas the grouping columns will be excluded from the operation. Either pass `include_groups=False` to exclude the groupings or explicitly select the grouping columns after groupby to silence this warning.\n",
      "  indexes_to_keep = match_df.groupby(\"metadata.robotTeam\").apply(lambda x: x.sort_values(c).iloc[n:-n]).index.get_level_values(1)\n",
      "/tmp/ipykernel_192619/2394994711.py:24: PerformanceWarning: DataFrame is highly fragmented.  This is usually the result of calling `frame.insert` many times, which has poor performance.  Consider joining all columns at once using pd.concat(axis=1) instead. To get a de-fragmented frame, use `newframe = frame.copy()`\n",
      "  team_df[f\"{c}.min.drop{n}\"] = filtered_df.groupby(\"metadata.robotTeam\")[c].min()\n",
      "/tmp/ipykernel_192619/2394994711.py:25: PerformanceWarning: DataFrame is highly fragmented.  This is usually the result of calling `frame.insert` many times, which has poor performance.  Consider joining all columns at once using pd.concat(axis=1) instead. To get a de-fragmented frame, use `newframe = frame.copy()`\n",
      "  team_df[f\"{c}.max.drop{n}\"] = filtered_df.groupby(\"metadata.robotTeam\")[c].max()\n",
      "/tmp/ipykernel_192619/2394994711.py:26: PerformanceWarning: DataFrame is highly fragmented.  This is usually the result of calling `frame.insert` many times, which has poor performance.  Consider joining all columns at once using pd.concat(axis=1) instead. To get a de-fragmented frame, use `newframe = frame.copy()`\n",
      "  team_df[f\"{c}.avg.drop{n}\"] = filtered_df.groupby(\"metadata.robotTeam\")[c].mean()\n",
      "/tmp/ipykernel_192619/2394994711.py:27: PerformanceWarning: DataFrame is highly fragmented.  This is usually the result of calling `frame.insert` many times, which has poor performance.  Consider joining all columns at once using pd.concat(axis=1) instead. To get a de-fragmented frame, use `newframe = frame.copy()`\n",
      "  team_df[f\"{c}.std.drop{n}\"] = filtered_df.groupby(\"metadata.robotTeam\")[c].std()\n",
      "/tmp/ipykernel_192619/2394994711.py:20: DeprecationWarning: DataFrameGroupBy.apply operated on the grouping columns. This behavior is deprecated, and in a future version of pandas the grouping columns will be excluded from the operation. Either pass `include_groups=False` to exclude the groupings or explicitly select the grouping columns after groupby to silence this warning.\n",
      "  indexes_to_keep = match_df.groupby(\"metadata.robotTeam\").apply(lambda x: x.sort_values(c).iloc[n:-n]).index.get_level_values(1)\n",
      "/tmp/ipykernel_192619/2394994711.py:24: PerformanceWarning: DataFrame is highly fragmented.  This is usually the result of calling `frame.insert` many times, which has poor performance.  Consider joining all columns at once using pd.concat(axis=1) instead. To get a de-fragmented frame, use `newframe = frame.copy()`\n",
      "  team_df[f\"{c}.min.drop{n}\"] = filtered_df.groupby(\"metadata.robotTeam\")[c].min()\n",
      "/tmp/ipykernel_192619/2394994711.py:25: PerformanceWarning: DataFrame is highly fragmented.  This is usually the result of calling `frame.insert` many times, which has poor performance.  Consider joining all columns at once using pd.concat(axis=1) instead. To get a de-fragmented frame, use `newframe = frame.copy()`\n",
      "  team_df[f\"{c}.max.drop{n}\"] = filtered_df.groupby(\"metadata.robotTeam\")[c].max()\n",
      "/tmp/ipykernel_192619/2394994711.py:26: PerformanceWarning: DataFrame is highly fragmented.  This is usually the result of calling `frame.insert` many times, which has poor performance.  Consider joining all columns at once using pd.concat(axis=1) instead. To get a de-fragmented frame, use `newframe = frame.copy()`\n",
      "  team_df[f\"{c}.avg.drop{n}\"] = filtered_df.groupby(\"metadata.robotTeam\")[c].mean()\n",
      "/tmp/ipykernel_192619/2394994711.py:27: PerformanceWarning: DataFrame is highly fragmented.  This is usually the result of calling `frame.insert` many times, which has poor performance.  Consider joining all columns at once using pd.concat(axis=1) instead. To get a de-fragmented frame, use `newframe = frame.copy()`\n",
      "  team_df[f\"{c}.std.drop{n}\"] = filtered_df.groupby(\"metadata.robotTeam\")[c].std()\n",
      "/tmp/ipykernel_192619/2394994711.py:11: PerformanceWarning: DataFrame is highly fragmented.  This is usually the result of calling `frame.insert` many times, which has poor performance.  Consider joining all columns at once using pd.concat(axis=1) instead. To get a de-fragmented frame, use `newframe = frame.copy()`\n",
      "  team_df[f\"{c}.min\"] = match_df.groupby(\"metadata.robotTeam\")[c].min()\n",
      "/tmp/ipykernel_192619/2394994711.py:12: PerformanceWarning: DataFrame is highly fragmented.  This is usually the result of calling `frame.insert` many times, which has poor performance.  Consider joining all columns at once using pd.concat(axis=1) instead. To get a de-fragmented frame, use `newframe = frame.copy()`\n",
      "  team_df[f\"{c}.max\"] = match_df.groupby(\"metadata.robotTeam\")[c].max()\n",
      "/tmp/ipykernel_192619/2394994711.py:13: PerformanceWarning: DataFrame is highly fragmented.  This is usually the result of calling `frame.insert` many times, which has poor performance.  Consider joining all columns at once using pd.concat(axis=1) instead. To get a de-fragmented frame, use `newframe = frame.copy()`\n",
      "  team_df[f\"{c}.avg\"] = match_df.groupby(\"metadata.robotTeam\")[c].mean()\n",
      "/tmp/ipykernel_192619/2394994711.py:14: PerformanceWarning: DataFrame is highly fragmented.  This is usually the result of calling `frame.insert` many times, which has poor performance.  Consider joining all columns at once using pd.concat(axis=1) instead. To get a de-fragmented frame, use `newframe = frame.copy()`\n",
      "  team_df[f\"{c}.std\"] = match_df.groupby(\"metadata.robotTeam\")[c].std()\n",
      "/tmp/ipykernel_192619/2394994711.py:20: DeprecationWarning: DataFrameGroupBy.apply operated on the grouping columns. This behavior is deprecated, and in a future version of pandas the grouping columns will be excluded from the operation. Either pass `include_groups=False` to exclude the groupings or explicitly select the grouping columns after groupby to silence this warning.\n",
      "  indexes_to_keep = match_df.groupby(\"metadata.robotTeam\").apply(lambda x: x.sort_values(c).iloc[n:-n]).index.get_level_values(1)\n",
      "/tmp/ipykernel_192619/2394994711.py:24: PerformanceWarning: DataFrame is highly fragmented.  This is usually the result of calling `frame.insert` many times, which has poor performance.  Consider joining all columns at once using pd.concat(axis=1) instead. To get a de-fragmented frame, use `newframe = frame.copy()`\n",
      "  team_df[f\"{c}.min.drop{n}\"] = filtered_df.groupby(\"metadata.robotTeam\")[c].min()\n",
      "/tmp/ipykernel_192619/2394994711.py:25: PerformanceWarning: DataFrame is highly fragmented.  This is usually the result of calling `frame.insert` many times, which has poor performance.  Consider joining all columns at once using pd.concat(axis=1) instead. To get a de-fragmented frame, use `newframe = frame.copy()`\n",
      "  team_df[f\"{c}.max.drop{n}\"] = filtered_df.groupby(\"metadata.robotTeam\")[c].max()\n",
      "/tmp/ipykernel_192619/2394994711.py:26: PerformanceWarning: DataFrame is highly fragmented.  This is usually the result of calling `frame.insert` many times, which has poor performance.  Consider joining all columns at once using pd.concat(axis=1) instead. To get a de-fragmented frame, use `newframe = frame.copy()`\n",
      "  team_df[f\"{c}.avg.drop{n}\"] = filtered_df.groupby(\"metadata.robotTeam\")[c].mean()\n",
      "/tmp/ipykernel_192619/2394994711.py:27: PerformanceWarning: DataFrame is highly fragmented.  This is usually the result of calling `frame.insert` many times, which has poor performance.  Consider joining all columns at once using pd.concat(axis=1) instead. To get a de-fragmented frame, use `newframe = frame.copy()`\n",
      "  team_df[f\"{c}.std.drop{n}\"] = filtered_df.groupby(\"metadata.robotTeam\")[c].std()\n",
      "/tmp/ipykernel_192619/2394994711.py:20: DeprecationWarning: DataFrameGroupBy.apply operated on the grouping columns. This behavior is deprecated, and in a future version of pandas the grouping columns will be excluded from the operation. Either pass `include_groups=False` to exclude the groupings or explicitly select the grouping columns after groupby to silence this warning.\n",
      "  indexes_to_keep = match_df.groupby(\"metadata.robotTeam\").apply(lambda x: x.sort_values(c).iloc[n:-n]).index.get_level_values(1)\n",
      "/tmp/ipykernel_192619/2394994711.py:24: PerformanceWarning: DataFrame is highly fragmented.  This is usually the result of calling `frame.insert` many times, which has poor performance.  Consider joining all columns at once using pd.concat(axis=1) instead. To get a de-fragmented frame, use `newframe = frame.copy()`\n",
      "  team_df[f\"{c}.min.drop{n}\"] = filtered_df.groupby(\"metadata.robotTeam\")[c].min()\n",
      "/tmp/ipykernel_192619/2394994711.py:25: PerformanceWarning: DataFrame is highly fragmented.  This is usually the result of calling `frame.insert` many times, which has poor performance.  Consider joining all columns at once using pd.concat(axis=1) instead. To get a de-fragmented frame, use `newframe = frame.copy()`\n",
      "  team_df[f\"{c}.max.drop{n}\"] = filtered_df.groupby(\"metadata.robotTeam\")[c].max()\n",
      "/tmp/ipykernel_192619/2394994711.py:26: PerformanceWarning: DataFrame is highly fragmented.  This is usually the result of calling `frame.insert` many times, which has poor performance.  Consider joining all columns at once using pd.concat(axis=1) instead. To get a de-fragmented frame, use `newframe = frame.copy()`\n",
      "  team_df[f\"{c}.avg.drop{n}\"] = filtered_df.groupby(\"metadata.robotTeam\")[c].mean()\n",
      "/tmp/ipykernel_192619/2394994711.py:27: PerformanceWarning: DataFrame is highly fragmented.  This is usually the result of calling `frame.insert` many times, which has poor performance.  Consider joining all columns at once using pd.concat(axis=1) instead. To get a de-fragmented frame, use `newframe = frame.copy()`\n",
      "  team_df[f\"{c}.std.drop{n}\"] = filtered_df.groupby(\"metadata.robotTeam\")[c].std()\n",
      "/tmp/ipykernel_192619/2394994711.py:11: PerformanceWarning: DataFrame is highly fragmented.  This is usually the result of calling `frame.insert` many times, which has poor performance.  Consider joining all columns at once using pd.concat(axis=1) instead. To get a de-fragmented frame, use `newframe = frame.copy()`\n",
      "  team_df[f\"{c}.min\"] = match_df.groupby(\"metadata.robotTeam\")[c].min()\n",
      "/tmp/ipykernel_192619/2394994711.py:12: PerformanceWarning: DataFrame is highly fragmented.  This is usually the result of calling `frame.insert` many times, which has poor performance.  Consider joining all columns at once using pd.concat(axis=1) instead. To get a de-fragmented frame, use `newframe = frame.copy()`\n",
      "  team_df[f\"{c}.max\"] = match_df.groupby(\"metadata.robotTeam\")[c].max()\n",
      "/tmp/ipykernel_192619/2394994711.py:13: PerformanceWarning: DataFrame is highly fragmented.  This is usually the result of calling `frame.insert` many times, which has poor performance.  Consider joining all columns at once using pd.concat(axis=1) instead. To get a de-fragmented frame, use `newframe = frame.copy()`\n",
      "  team_df[f\"{c}.avg\"] = match_df.groupby(\"metadata.robotTeam\")[c].mean()\n",
      "/tmp/ipykernel_192619/2394994711.py:14: PerformanceWarning: DataFrame is highly fragmented.  This is usually the result of calling `frame.insert` many times, which has poor performance.  Consider joining all columns at once using pd.concat(axis=1) instead. To get a de-fragmented frame, use `newframe = frame.copy()`\n",
      "  team_df[f\"{c}.std\"] = match_df.groupby(\"metadata.robotTeam\")[c].std()\n",
      "/tmp/ipykernel_192619/2394994711.py:20: DeprecationWarning: DataFrameGroupBy.apply operated on the grouping columns. This behavior is deprecated, and in a future version of pandas the grouping columns will be excluded from the operation. Either pass `include_groups=False` to exclude the groupings or explicitly select the grouping columns after groupby to silence this warning.\n",
      "  indexes_to_keep = match_df.groupby(\"metadata.robotTeam\").apply(lambda x: x.sort_values(c).iloc[n:-n]).index.get_level_values(1)\n",
      "/tmp/ipykernel_192619/2394994711.py:24: PerformanceWarning: DataFrame is highly fragmented.  This is usually the result of calling `frame.insert` many times, which has poor performance.  Consider joining all columns at once using pd.concat(axis=1) instead. To get a de-fragmented frame, use `newframe = frame.copy()`\n",
      "  team_df[f\"{c}.min.drop{n}\"] = filtered_df.groupby(\"metadata.robotTeam\")[c].min()\n",
      "/tmp/ipykernel_192619/2394994711.py:25: PerformanceWarning: DataFrame is highly fragmented.  This is usually the result of calling `frame.insert` many times, which has poor performance.  Consider joining all columns at once using pd.concat(axis=1) instead. To get a de-fragmented frame, use `newframe = frame.copy()`\n",
      "  team_df[f\"{c}.max.drop{n}\"] = filtered_df.groupby(\"metadata.robotTeam\")[c].max()\n",
      "/tmp/ipykernel_192619/2394994711.py:26: PerformanceWarning: DataFrame is highly fragmented.  This is usually the result of calling `frame.insert` many times, which has poor performance.  Consider joining all columns at once using pd.concat(axis=1) instead. To get a de-fragmented frame, use `newframe = frame.copy()`\n",
      "  team_df[f\"{c}.avg.drop{n}\"] = filtered_df.groupby(\"metadata.robotTeam\")[c].mean()\n",
      "/tmp/ipykernel_192619/2394994711.py:27: PerformanceWarning: DataFrame is highly fragmented.  This is usually the result of calling `frame.insert` many times, which has poor performance.  Consider joining all columns at once using pd.concat(axis=1) instead. To get a de-fragmented frame, use `newframe = frame.copy()`\n",
      "  team_df[f\"{c}.std.drop{n}\"] = filtered_df.groupby(\"metadata.robotTeam\")[c].std()\n",
      "/tmp/ipykernel_192619/2394994711.py:20: DeprecationWarning: DataFrameGroupBy.apply operated on the grouping columns. This behavior is deprecated, and in a future version of pandas the grouping columns will be excluded from the operation. Either pass `include_groups=False` to exclude the groupings or explicitly select the grouping columns after groupby to silence this warning.\n",
      "  indexes_to_keep = match_df.groupby(\"metadata.robotTeam\").apply(lambda x: x.sort_values(c).iloc[n:-n]).index.get_level_values(1)\n",
      "/tmp/ipykernel_192619/2394994711.py:24: PerformanceWarning: DataFrame is highly fragmented.  This is usually the result of calling `frame.insert` many times, which has poor performance.  Consider joining all columns at once using pd.concat(axis=1) instead. To get a de-fragmented frame, use `newframe = frame.copy()`\n",
      "  team_df[f\"{c}.min.drop{n}\"] = filtered_df.groupby(\"metadata.robotTeam\")[c].min()\n",
      "/tmp/ipykernel_192619/2394994711.py:25: PerformanceWarning: DataFrame is highly fragmented.  This is usually the result of calling `frame.insert` many times, which has poor performance.  Consider joining all columns at once using pd.concat(axis=1) instead. To get a de-fragmented frame, use `newframe = frame.copy()`\n",
      "  team_df[f\"{c}.max.drop{n}\"] = filtered_df.groupby(\"metadata.robotTeam\")[c].max()\n",
      "/tmp/ipykernel_192619/2394994711.py:26: PerformanceWarning: DataFrame is highly fragmented.  This is usually the result of calling `frame.insert` many times, which has poor performance.  Consider joining all columns at once using pd.concat(axis=1) instead. To get a de-fragmented frame, use `newframe = frame.copy()`\n",
      "  team_df[f\"{c}.avg.drop{n}\"] = filtered_df.groupby(\"metadata.robotTeam\")[c].mean()\n",
      "/tmp/ipykernel_192619/2394994711.py:27: PerformanceWarning: DataFrame is highly fragmented.  This is usually the result of calling `frame.insert` many times, which has poor performance.  Consider joining all columns at once using pd.concat(axis=1) instead. To get a de-fragmented frame, use `newframe = frame.copy()`\n",
      "  team_df[f\"{c}.std.drop{n}\"] = filtered_df.groupby(\"metadata.robotTeam\")[c].std()\n"
     ]
    }
   ],
   "source": [
    "# For each of the columns below, find statistical metrics for each (min, max, avg, std)\n",
    "STAT_COLUMNS = (\n",
    "    [\"autoCoral.L{}\".format(x) for x in range(1, 5)] +\n",
    "    [\"teleCoral.L{}\".format(x) for x in range(1, 5)] +\n",
    "    [\"autoAlgae.netRobot\", \"autoAlgae.processor\", \"autoAlgae.remove\"] +\n",
    "    [\"teleAlgae.netRobot\", \"teleAlgae.processor\", \"teleAlgae.remove\"] +\n",
    "    [\"autoScore\", \"teleScore\", \"endgameScore\", \"totalScore\"]\n",
    ")\n",
    "\n",
    "for c in STAT_COLUMNS:\n",
    "    team_df[f\"{c}.min\"] = match_df.groupby(\"metadata.robotTeam\")[c].min()\n",
    "    team_df[f\"{c}.max\"] = match_df.groupby(\"metadata.robotTeam\")[c].max()\n",
    "    team_df[f\"{c}.avg\"] = match_df.groupby(\"metadata.robotTeam\")[c].mean()\n",
    "    team_df[f\"{c}.std\"] = match_df.groupby(\"metadata.robotTeam\")[c].std()\n",
    "\n",
    "    # We also want to calculate these metrics for different variations of matches being dropped.\n",
    "    for n in range(1, 3):\n",
    "        # Start by removing the top and bottom `n` matches for a team by finding\n",
    "        # the indexes of the matches we want to keep\n",
    "        indexes_to_keep = match_df.groupby(\"metadata.robotTeam\").apply(lambda x: x.sort_values(c).iloc[n:-n]).index.get_level_values(1)\n",
    "        filtered_df = match_df[match_df.index.isin(indexes_to_keep)]\n",
    "\n",
    "        # With our new filtered dataframe, compute statistic metrics\n",
    "        team_df[f\"{c}.min.drop{n}\"] = filtered_df.groupby(\"metadata.robotTeam\")[c].min()\n",
    "        team_df[f\"{c}.max.drop{n}\"] = filtered_df.groupby(\"metadata.robotTeam\")[c].max()\n",
    "        team_df[f\"{c}.avg.drop{n}\"] = filtered_df.groupby(\"metadata.robotTeam\")[c].mean()\n",
    "        team_df[f\"{c}.std.drop{n}\"] = filtered_df.groupby(\"metadata.robotTeam\")[c].std()"
   ]
  },
  {
   "cell_type": "code",
   "execution_count": 44,
   "metadata": {},
   "outputs": [
    {
     "data": {
      "text/plain": [
       "False"
      ]
     },
     "execution_count": 44,
     "metadata": {},
     "output_type": "execute_result"
    }
   ],
   "source": [
    "DEBUG and team_df[team_df.index == 4201][[\"autoCoral.L4.avg\", \"autoCoral.L4.avg.drop1\", \"autoCoral.L4.avg.drop2\"]]"
   ]
  },
  {
   "cell_type": "code",
   "execution_count": 45,
   "metadata": {},
   "outputs": [
    {
     "data": {
      "text/plain": [
       "False"
      ]
     },
     "execution_count": 45,
     "metadata": {},
     "output_type": "execute_result"
    }
   ],
   "source": [
    "DEBUG and match_df[match_df[\"metadata.robotTeam\"] == 4201][[\"metadata.robotTeam\", \"autoCoral.L4\"]]"
   ]
  },
  {
   "cell_type": "code",
   "execution_count": 46,
   "metadata": {},
   "outputs": [
    {
     "name": "stderr",
     "output_type": "stream",
     "text": [
      "/tmp/ipykernel_192619/1034481741.py:1: PerformanceWarning: DataFrame is highly fragmented.  This is usually the result of calling `frame.insert` many times, which has poor performance.  Consider joining all columns at once using pd.concat(axis=1) instead. To get a de-fragmented frame, use `newframe = frame.copy()`\n",
      "  team_df[\"fouls.avg\"] = super_df[[\n"
     ]
    }
   ],
   "source": [
    "team_df[\"fouls.avg\"] = super_df[[\n",
    "    \"fouls.insideRobot\",\n",
    "    \"fouls.protectedZone\",\n",
    "    \"fouls.pinning\",\n",
    "    \"fouls.multiplePieces\",\n",
    "    \"fouls.cageFoul\",\n",
    "    \"fouls.other\"\n",
    "]].sum(axis=1).groupby(super_df[\"metadata.robotTeam\"]).mean()"
   ]
  },
  {
   "cell_type": "code",
   "execution_count": 47,
   "metadata": {},
   "outputs": [
    {
     "data": {
      "text/plain": [
       "False"
      ]
     },
     "execution_count": 47,
     "metadata": {},
     "output_type": "execute_result"
    }
   ],
   "source": [
    "DEBUG and team_df[\"fouls.avg\"]"
   ]
  },
  {
   "cell_type": "code",
   "execution_count": 48,
   "metadata": {},
   "outputs": [
    {
     "name": "stderr",
     "output_type": "stream",
     "text": [
      "/tmp/ipykernel_192619/634828927.py:1: PerformanceWarning: DataFrame is highly fragmented.  This is usually the result of calling `frame.insert` many times, which has poor performance.  Consider joining all columns at once using pd.concat(axis=1) instead. To get a de-fragmented frame, use `newframe = frame.copy()`\n",
      "  team_df[\"break.avg\"] = super_df[[\n"
     ]
    }
   ],
   "source": [
    "team_df[\"break.avg\"] = super_df[[\n",
    "    \"break.mechanismDmg\",\n",
    "    \"break.batteryFall\",\n",
    "    \"break.commsFail\",\n",
    "    \"break.bumperFall\"\n",
    "]].sum(axis=1).groupby(super_df[\"metadata.robotTeam\"]).mean()"
   ]
  },
  {
   "cell_type": "code",
   "execution_count": 49,
   "metadata": {},
   "outputs": [
    {
     "data": {
      "text/plain": [
       "False"
      ]
     },
     "execution_count": 49,
     "metadata": {},
     "output_type": "execute_result"
    }
   ],
   "source": [
    "DEBUG and team_df[\"break.avg\"]"
   ]
  },
  {
   "cell_type": "code",
   "execution_count": 50,
   "metadata": {},
   "outputs": [
    {
     "name": "stderr",
     "output_type": "stream",
     "text": [
      "/tmp/ipykernel_192619/1343473457.py:8: PerformanceWarning: DataFrame is highly fragmented.  This is usually the result of calling `frame.insert` many times, which has poor performance.  Consider joining all columns at once using pd.concat(axis=1) instead. To get a de-fragmented frame, use `newframe = frame.copy()`\n",
      "  team_df[\"Percent of Matches with No Defense\"] = None\n",
      "/tmp/ipykernel_192619/1343473457.py:9: PerformanceWarning: DataFrame is highly fragmented.  This is usually the result of calling `frame.insert` many times, which has poor performance.  Consider joining all columns at once using pd.concat(axis=1) instead. To get a de-fragmented frame, use `newframe = frame.copy()`\n",
      "  team_df[\"Percent of Matches with Some Defense\"] = None\n",
      "/tmp/ipykernel_192619/1343473457.py:10: PerformanceWarning: DataFrame is highly fragmented.  This is usually the result of calling `frame.insert` many times, which has poor performance.  Consider joining all columns at once using pd.concat(axis=1) instead. To get a de-fragmented frame, use `newframe = frame.copy()`\n",
      "  team_df[\"Percent of Matches with Full Defense\"] = None\n",
      "/tmp/ipykernel_192619/1343473457.py:11: PerformanceWarning: DataFrame is highly fragmented.  This is usually the result of calling `frame.insert` many times, which has poor performance.  Consider joining all columns at once using pd.concat(axis=1) instead. To get a de-fragmented frame, use `newframe = frame.copy()`\n",
      "  team_df[\"Main Defense Type\"] = None\n"
     ]
    }
   ],
   "source": [
    "# All copied from last year, didn't actually check if this works\n",
    "def safeDivide(a, b):\n",
    "    return 0 if b == 0 else a / b\n",
    "\n",
    "team_list = match_df[\"metadata.robotTeam\"].unique().tolist()\n",
    "team_list = [team for team in team_list if not np.isnan(team)]\n",
    "\n",
    "team_df[\"Percent of Matches with No Defense\"] = None\n",
    "team_df[\"Percent of Matches with Some Defense\"] = None\n",
    "team_df[\"Percent of Matches with Full Defense\"] = None\n",
    "team_df[\"Main Defense Type\"] = None\n",
    "\n",
    "for team in team_list:\n",
    "    \n",
    "    defense_type_list = super_df.loc[super_df[\"metadata.robotTeam\"] == team, \"defense\"].tolist()\n",
    "    \n",
    "    no_defense_count = 0\n",
    "    some_defense_count = 0\n",
    "    full_defense_count = 0\n",
    "    \n",
    "    for defense_type in defense_type_list:\n",
    "        if defense_type == \"noDef\":\n",
    "            no_defense_count += 1\n",
    "        elif defense_type == \"someDef\":\n",
    "            some_defense_count += 1\n",
    "        elif defense_type == \"fullDef\":\n",
    "            full_defense_count += 1\n",
    "\n",
    "    defense_total_count = sum([no_defense_count, some_defense_count, full_defense_count])\n",
    "        \n",
    "    team_df.at[team, \"Percent of Matches with No Defense\"] = safeDivide(no_defense_count, defense_total_count)\n",
    "    team_df.at[team, \"Percent of Matches with Some Defense\"] = safeDivide(some_defense_count, defense_total_count)\n",
    "    team_df.at[team, \"Percent of Matches with Full Defense\"] = safeDivide(full_defense_count, defense_total_count)\n",
    "    \n",
    "    biggest_defense_count = max([no_defense_count, some_defense_count, full_defense_count])\n",
    "    main_defense_type = \"\"\n",
    "\n",
    "    if biggest_defense_count == no_defense_count:\n",
    "        main_defense_type += \"No Defense \"\n",
    "    if biggest_defense_count == some_defense_count:\n",
    "        main_defense_type += \"Some Defense \"\n",
    "    if biggest_defense_count == full_defense_count:\n",
    "        main_defense_type += \"Full Defense\"\n",
    "    \n",
    "    team_df.at[team, \"Main Defense Type\"] = main_defense_type"
   ]
  },
  {
   "cell_type": "code",
   "execution_count": 51,
   "metadata": {},
   "outputs": [
    {
     "data": {
      "text/plain": [
       "False"
      ]
     },
     "execution_count": 51,
     "metadata": {},
     "output_type": "execute_result"
    }
   ],
   "source": [
    "DEBUG and team_df"
   ]
  },
  {
   "cell_type": "code",
   "execution_count": 52,
   "metadata": {},
   "outputs": [],
   "source": [
    "team_df.to_csv(\"caph_2025_sat.csv\")"
   ]
  }
 ],
 "metadata": {
  "kernelspec": {
   "display_name": "venv",
   "language": "python",
   "name": "python3"
  },
  "language_info": {
   "codemirror_mode": {
    "name": "ipython",
    "version": 3
   },
   "file_extension": ".py",
   "mimetype": "text/x-python",
   "name": "python",
   "nbconvert_exporter": "python",
   "pygments_lexer": "ipython3",
   "version": "3.12.6"
  }
 },
 "nbformat": 4,
 "nbformat_minor": 2
}
